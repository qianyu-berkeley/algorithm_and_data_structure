{
 "cells": [
  {
   "cell_type": "markdown",
   "metadata": {},
   "source": [
    "# Algorithm and Data Structure Problem and Solutions (Python)"
   ]
  },
  {
   "cell_type": "markdown",
   "metadata": {},
   "source": [
    "[Leetcode Reference](https://github.com/kamyu104/LeetCode-Solutions.git)\n",
    "\n",
    "## Prefix Average\n",
    "\n",
    "### First attemp $O(n^2)$"
   ]
  },
  {
   "cell_type": "code",
   "execution_count": null,
   "metadata": {
    "collapsed": true
   },
   "outputs": [],
   "source": [
    "def prefix_average(S):\n",
    "    n = len(S)\n",
    "    A = [0] * n\n",
    "    total = 0\n",
    "    for i in range(n):\n",
    "        total += S[i]\n",
    "        A[i] = total/(i+1)\n",
    "    return A"
   ]
  },
  {
   "cell_type": "code",
   "execution_count": 15,
   "metadata": {
    "collapsed": true
   },
   "outputs": [],
   "source": [
    "def prefix_average(S):\n",
    "    \"\"\"Return list such that, for all j, A[j] equals average of S[0], ..., S[j].\"\"\"\n",
    "    n = len(S)\n",
    "    A = [0] * n # create new list of n zeros\n",
    "    for j in range(n):\n",
    "        total = 0 # begin computing S[0] + ... + S[j]\n",
    "        for i in range(j + 1):\n",
    "            total += S[i]\n",
    "            A[j] = total / (j+1) # record the average\n",
    "    return A"
   ]
  },
  {
   "cell_type": "code",
   "execution_count": 11,
   "metadata": {
    "collapsed": true
   },
   "outputs": [],
   "source": [
    "list = [3, 6, 4, 1, 8, 5, 7, 2, 9, 20, 30, 11, 12, 34, 56]"
   ]
  },
  {
   "cell_type": "code",
   "execution_count": 19,
   "metadata": {},
   "outputs": [
    {
     "name": "stdout",
     "output_type": "stream",
     "text": [
      "[3, 4, 4, 3, 4, 4, 4, 4, 5, 6, 8, 8, 9, 10, 13]\n",
      "0.000168085098267\n"
     ]
    }
   ],
   "source": [
    "start_time = time()\n",
    "x = prefix_average(list)\n",
    "end_time = time()\n",
    "print x\n",
    "print end_time - start_time"
   ]
  },
  {
   "cell_type": "markdown",
   "metadata": {},
   "source": [
    "### Second try still $O(n^2)$"
   ]
  },
  {
   "cell_type": "code",
   "execution_count": 20,
   "metadata": {
    "collapsed": true
   },
   "outputs": [],
   "source": [
    "def prefix_average(S):\n",
    "    n = len(S)\n",
    "    A = [0] * n\n",
    "    for i in range(n):\n",
    "        A[i] = sum(S[0:i+1]) / (i + 1)\n",
    "    return A"
   ]
  },
  {
   "cell_type": "code",
   "execution_count": 21,
   "metadata": {},
   "outputs": [
    {
     "name": "stdout",
     "output_type": "stream",
     "text": [
      "[3, 4, 4, 3, 4, 4, 4, 4, 5, 6, 8, 8, 9, 10, 13]\n",
      "0.000138998031616\n"
     ]
    }
   ],
   "source": [
    "start_time = time()\n",
    "x = prefix_average(list)\n",
    "end_time = time()\n",
    "print x\n",
    "print end_time - start_time"
   ]
  },
  {
   "cell_type": "markdown",
   "metadata": {},
   "source": [
    "### Third try $O(n)$\n",
    "\n",
    "* Introduce the intermediate variable to avoid re-compute the sum"
   ]
  },
  {
   "cell_type": "code",
   "execution_count": null,
   "metadata": {
    "collapsed": true
   },
   "outputs": [],
   "source": [
    "def prefix_average(S):\n",
    "    n = len(S)\n",
    "    A = [0] * n\n",
    "    total = 0\n",
    "    for i in range(n):\n",
    "        total += S[i]\n",
    "        A[i] = total/(i+1)\n",
    "    return A"
   ]
  },
  {
   "cell_type": "code",
   "execution_count": 23,
   "metadata": {},
   "outputs": [
    {
     "name": "stdout",
     "output_type": "stream",
     "text": [
      "[3, 4, 4, 3, 4, 4, 4, 4, 5, 6, 8, 8, 9, 10, 13]\n",
      "0.000108957290649\n"
     ]
    }
   ],
   "source": [
    "start_time = time()\n",
    "x = prefix_average(list)\n",
    "end_time = time()\n",
    "print x\n",
    "print end_time - start_time"
   ]
  },
  {
   "cell_type": "markdown",
   "metadata": {},
   "source": [
    "## Three-way set distjointness"
   ]
  },
  {
   "cell_type": "code",
   "execution_count": 24,
   "metadata": {
    "collapsed": true
   },
   "outputs": [],
   "source": [
    "def disjoint(A, B, C):\n",
    "    for a in A:\n",
    "        for b in B:\n",
    "            for c in C:\n",
    "                if a == b == c:\n",
    "                    return False\n",
    "    return False"
   ]
  },
  {
   "cell_type": "markdown",
   "metadata": {},
   "source": [
    "$O(n^3)$"
   ]
  },
  {
   "cell_type": "code",
   "execution_count": 25,
   "metadata": {
    "collapsed": true
   },
   "outputs": [],
   "source": [
    "def disjoint(A, B, C):\n",
    "    for a in A:\n",
    "        for b in B:\n",
    "            if a == b:\n",
    "                for c in C:\n",
    "                    if a == c:\n",
    "                        return False\n",
    "    return False"
   ]
  },
  {
   "cell_type": "markdown",
   "metadata": {},
   "source": [
    "$O(n^2)$"
   ]
  },
  {
   "cell_type": "markdown",
   "metadata": {},
   "source": [
    "## Unique or not"
   ]
  },
  {
   "cell_type": "markdown",
   "metadata": {},
   "source": [
    "$O(n^2)$"
   ]
  },
  {
   "cell_type": "code",
   "execution_count": 34,
   "metadata": {
    "collapsed": true
   },
   "outputs": [],
   "source": [
    "def unique1(S):\n",
    "    for j in range(len(S)):\n",
    "        for i in range(j + 1 , len(S)):\n",
    "            if S[i] == S[j]:\n",
    "                return False\n",
    "    return True"
   ]
  },
  {
   "cell_type": "code",
   "execution_count": 35,
   "metadata": {},
   "outputs": [
    {
     "name": "stdout",
     "output_type": "stream",
     "text": [
      "0.000155210494995\n"
     ]
    }
   ],
   "source": [
    "start_time = time()\n",
    "unique1(list)\n",
    "end_time = time()\n",
    "print end_time - start_time"
   ]
  },
  {
   "cell_type": "markdown",
   "metadata": {},
   "source": [
    "$O(nlogn)$\n",
    "\n",
    "* Python build-in sort run at $O(nlogn)$"
   ]
  },
  {
   "cell_type": "code",
   "execution_count": 36,
   "metadata": {
    "collapsed": true
   },
   "outputs": [],
   "source": [
    "def unique2(S):\n",
    "    temp = sorted(S)\n",
    "    for i in range(1, len(temp)):\n",
    "        if temp[i - 1] == temp[i]:\n",
    "            return False\n",
    "    return True"
   ]
  },
  {
   "cell_type": "code",
   "execution_count": 37,
   "metadata": {},
   "outputs": [
    {
     "name": "stdout",
     "output_type": "stream",
     "text": [
      "0.000115871429443\n"
     ]
    }
   ],
   "source": [
    "start_time = time()\n",
    "unique2(list)\n",
    "end_time = time()\n",
    "print end_time - start_time"
   ]
  },
  {
   "cell_type": "markdown",
   "metadata": {},
   "source": [
    "## Factorial"
   ]
  },
  {
   "cell_type": "code",
   "execution_count": 38,
   "metadata": {
    "collapsed": true
   },
   "outputs": [],
   "source": [
    "def factorial(n):\n",
    "    if n == 0:\n",
    "        return 1\n",
    "    else:\n",
    "        return n * factorial(n-1)"
   ]
  },
  {
   "cell_type": "code",
   "execution_count": 39,
   "metadata": {},
   "outputs": [
    {
     "data": {
      "text/plain": [
       "24"
      ]
     },
     "execution_count": 39,
     "metadata": {},
     "output_type": "execute_result"
    }
   ],
   "source": [
    "factorial(4)"
   ]
  },
  {
   "cell_type": "markdown",
   "metadata": {},
   "source": [
    "### English Ruler\n",
    "\n",
    "In general, an interval with a central tick length L ≥ 1 is composed of:\n",
    "* An interval with a central tick length L−1\n",
    "* A single tick of length L\n",
    "* An interval with a central tick length L−1"
   ]
  },
  {
   "cell_type": "code",
   "execution_count": 47,
   "metadata": {
    "collapsed": true
   },
   "outputs": [],
   "source": [
    "def draw_line(tick_length, tick_label=''):\n",
    "    \"\"\"Draw one line with given tick length (followed by optional label).\"\"\"\n",
    "    line = '-' * tick_length\n",
    "    if tick_label:\n",
    "        line += ' '+ tick_label\n",
    "    print line"
   ]
  },
  {
   "cell_type": "code",
   "execution_count": 53,
   "metadata": {
    "collapsed": true
   },
   "outputs": [],
   "source": [
    "def draw_interval(center_length):\n",
    "    \"\"\"Draw tick interval based upon a central tick length.\"\"\"\n",
    "    if center_length > 0: # stop when length drops to 0\n",
    "        draw_interval(center_length - 1) # recursively draw top ticks\n",
    "        draw_line(center_length) # draw center tick\n",
    "        draw_interval(center_length - 1) # recursively draw bottom ticks"
   ]
  },
  {
   "cell_type": "code",
   "execution_count": 55,
   "metadata": {
    "collapsed": true
   },
   "outputs": [],
   "source": [
    "def draw_ruler(num_inches, tick_length):\n",
    "    draw_line(tick_length, '0')\n",
    "    for i in range(1, 1 + num_inches):\n",
    "        draw_interval(tick_length - 1)\n",
    "        draw_line(tick_length, str(i))"
   ]
  },
  {
   "cell_type": "code",
   "execution_count": 57,
   "metadata": {
    "scrolled": false
   },
   "outputs": [
    {
     "name": "stdout",
     "output_type": "stream",
     "text": [
      "---- 0\n",
      "-\n",
      "--\n",
      "-\n",
      "---\n",
      "-\n",
      "--\n",
      "-\n",
      "---- 1\n",
      "-\n",
      "--\n",
      "-\n",
      "---\n",
      "-\n",
      "--\n",
      "-\n",
      "---- 2\n",
      "-\n",
      "--\n",
      "-\n",
      "---\n",
      "-\n",
      "--\n",
      "-\n",
      "---- 3\n",
      "-\n",
      "--\n",
      "-\n",
      "---\n",
      "-\n",
      "--\n",
      "-\n",
      "---- 4\n",
      "-\n",
      "--\n",
      "-\n",
      "---\n",
      "-\n",
      "--\n",
      "-\n",
      "---- 5\n"
     ]
    }
   ],
   "source": [
    "draw_ruler(5, 4)"
   ]
  },
  {
   "cell_type": "markdown",
   "metadata": {},
   "source": [
    "## Binary Search (for sorted list)"
   ]
  },
  {
   "cell_type": "code",
   "execution_count": 61,
   "metadata": {
    "collapsed": true
   },
   "outputs": [],
   "source": [
    "def binary_search(data, target, low, high):\n",
    "    if low > high:\n",
    "        return False\n",
    "    else:\n",
    "        mid = (low + high)/2/2\n",
    "        if target == data[mid]:\n",
    "            return True\n",
    "        elif target < data[mid]:\n",
    "            return binary_search(data, target, low, mid -1)\n",
    "        else:\n",
    "            return binary_search(data, target, mide + 1, high)"
   ]
  },
  {
   "cell_type": "markdown",
   "metadata": {},
   "source": [
    "## Linear Recursion\n",
    "\n",
    "* the definition of linear recursion is that any recursion trace will appear as a single sequence of calls\n",
    "* $O(n)$\n",
    "* e.g. Good fibonacci recursion"
   ]
  },
  {
   "cell_type": "markdown",
   "metadata": {},
   "source": [
    "#### Reverse a sequence"
   ]
  },
  {
   "cell_type": "code",
   "execution_count": 128,
   "metadata": {
    "collapsed": true
   },
   "outputs": [],
   "source": [
    "def reverse(S, start, stop):\n",
    "    if start < stop - 1:\n",
    "        S[start], S[stop - 1] = S[stop - 1], S[start]\n",
    "        reverse(S, start + 1, stop - 1)"
   ]
  },
  {
   "cell_type": "code",
   "execution_count": 129,
   "metadata": {},
   "outputs": [
    {
     "data": {
      "text/plain": [
       "[1, 2, 3, 4, 5, 6, 7, 8, 9]"
      ]
     },
     "execution_count": 129,
     "metadata": {},
     "output_type": "execute_result"
    }
   ],
   "source": [
    "a = range(1, 10)\n",
    "a"
   ]
  },
  {
   "cell_type": "code",
   "execution_count": 131,
   "metadata": {
    "collapsed": true
   },
   "outputs": [],
   "source": [
    "reverse(a, 0, 9)"
   ]
  },
  {
   "cell_type": "code",
   "execution_count": 132,
   "metadata": {},
   "outputs": [
    {
     "data": {
      "text/plain": [
       "[9, 8, 7, 6, 5, 4, 3, 2, 1]"
      ]
     },
     "execution_count": 132,
     "metadata": {},
     "output_type": "execute_result"
    }
   ],
   "source": []
  },
  {
   "cell_type": "code",
   "execution_count": 19,
   "metadata": {},
   "outputs": [
    {
     "data": {
      "text/plain": [
       "[0, 1]"
      ]
     },
     "execution_count": 19,
     "metadata": {},
     "output_type": "execute_result"
    }
   ],
   "source": [
    "import math\n",
    "[i for i in range(math.ceil(4/2))]"
   ]
  },
  {
   "cell_type": "code",
   "execution_count": 20,
   "metadata": {},
   "outputs": [
    {
     "data": {
      "text/plain": [
       "[0, 1, 2, 3]"
      ]
     },
     "execution_count": 20,
     "metadata": {},
     "output_type": "execute_result"
    }
   ],
   "source": [
    "[i for i in range(4)]"
   ]
  },
  {
   "cell_type": "code",
   "execution_count": 26,
   "metadata": {},
   "outputs": [
    {
     "data": {
      "text/plain": [
       "[3, 2]"
      ]
     },
     "execution_count": 26,
     "metadata": {},
     "output_type": "execute_result"
    }
   ],
   "source": [
    "a = [0, 1, 2, 3]\n",
    "[a[-1-i] for i in range(math.ceil(len(a)/2))]"
   ]
  },
  {
   "cell_type": "code",
   "execution_count": 27,
   "metadata": {},
   "outputs": [
    {
     "data": {
      "text/plain": [
       "[0, 1]"
      ]
     },
     "execution_count": 27,
     "metadata": {},
     "output_type": "execute_result"
    }
   ],
   "source": [
    "[a[i] for i in range(math.ceil(len(a)/2))]"
   ]
  },
  {
   "cell_type": "markdown",
   "metadata": {},
   "source": [
    "## Roman to Integer"
   ]
  },
  {
   "cell_type": "code",
   "execution_count": 106,
   "metadata": {},
   "outputs": [],
   "source": [
    "class Solution:\n",
    "    def romanToInt(self, s: str) -> int:\n",
    "        m = {'I': 1, 'V': 5, 'X': 10, 'L': 50, 'C': 100, 'D': 500, 'M': 1000}\n",
    "        if len(s) == 0:\n",
    "            return 0\n",
    "        if len(s) == 1:\n",
    "            return m[s[0]]\n",
    "        \n",
    "        value = m[s[0]]\n",
    "        for i in range(1, len(s)):\n",
    "            print(i, s[:i], value)\n",
    "            if m[s[i]] <= m[s[i-1]]:\n",
    "                value += m[s[i]]\n",
    "            else:\n",
    "                value = value + m[s[i]] - 2*m[s[i-1]]\n",
    "        return value"
   ]
  },
  {
   "cell_type": "code",
   "execution_count": 107,
   "metadata": {},
   "outputs": [
    {
     "name": "stdout",
     "output_type": "stream",
     "text": [
      "1 L 50\n",
      "2 LV 55\n",
      "3 LVI 56\n",
      "4 LVII 57\n",
      "58 58\n",
      "\n",
      "1 M 1000\n",
      "2 MD 1500\n",
      "3 MDC 1600\n",
      "4 MDCX 1610\n",
      "5 MDCXC 1690\n",
      "1695 1695\n",
      "\n",
      "1 I 1\n",
      "2 II 2\n",
      "3 3\n",
      "\n",
      "1 M 1000\n",
      "2 MC 1100\n",
      "3 MCM 1900\n",
      "4 MCMX 1910\n",
      "5 MCMXC 1990\n",
      "6 MCMXCI 1991\n",
      "1994 1994\n"
     ]
    }
   ],
   "source": [
    "S = Solution()\n",
    "print(S.romanToInt('LVIII'), 58)\n",
    "print()\n",
    "print(S.romanToInt('MDCXCV'), 1695)\n",
    "print()\n",
    "print(S.romanToInt('III'), 3)\n",
    "print()\n",
    "print(S.romanToInt('MCMXCIV'), 1994)"
   ]
  },
  {
   "cell_type": "markdown",
   "metadata": {},
   "source": [
    "## Longest Common Prefix\n",
    "\n",
    "Write a function to find the longest common prefix string amongst an array of strings. If there is no common prefix, return an empty string \"\"."
   ]
  },
  {
   "cell_type": "code",
   "execution_count": 134,
   "metadata": {},
   "outputs": [
    {
     "data": {
      "text/plain": [
       "['ab', 'abcc', 'abcde', 'abcdefghu']"
      ]
     },
     "execution_count": 134,
     "metadata": {},
     "output_type": "execute_result"
    }
   ],
   "source": [
    "sorted(['abcc', 'abcde', 'abcdefghu', 'ab'])"
   ]
  },
  {
   "cell_type": "code",
   "execution_count": 163,
   "metadata": {},
   "outputs": [],
   "source": [
    "from typing import List\n",
    "\n",
    "class Solution:\n",
    "    def longestCommonPrefix(self, strs: List[str]) -> str:\n",
    "        sorted_strs = sorted(strs)\n",
    "        first_word = sorted_strs[0]\n",
    "        last_word = sorted_strs[-1]\n",
    "        prefix = ''\n",
    "        for i in range(min(len(first_word), len(last_word))):\n",
    "            if first_word[i] != last_word[i]: \n",
    "                return prefix\n",
    "            else:\n",
    "                prefix += first_word[i]\n",
    "        return prefix"
   ]
  },
  {
   "cell_type": "code",
   "execution_count": 165,
   "metadata": {},
   "outputs": [
    {
     "name": "stdout",
     "output_type": "stream",
     "text": [
      "ab\n",
      "\n"
     ]
    }
   ],
   "source": [
    "S = Solution()\n",
    "print(S.longestCommonPrefix(['abc', 'ab', 'abcde']))\n",
    "print(S.longestCommonPrefix([\"dog\",\"racecar\",\"car\"]))"
   ]
  },
  {
   "cell_type": "markdown",
   "metadata": {},
   "source": [
    "## Valid Parentheses\n",
    "Given a string s containing just the characters '(', ')', '{', '}', '[' and ']', determine if the input string is valid.\n",
    "\n",
    "An input string is valid if:\n",
    "\n",
    "Open brackets must be closed by the same type of brackets.\n",
    "Open brackets must be closed in the correct order.\n",
    "Every close bracket has a corresponding open bracket of the same type."
   ]
  },
  {
   "cell_type": "code",
   "execution_count": 167,
   "metadata": {},
   "outputs": [],
   "source": [
    "class Solution:\n",
    "    def isValid(self, s: str) -> bool:\n",
    "        m = {')':'(', '}':'{', ']': '['}\n",
    "        if len(s)%2 !=0:\n",
    "            return False\n",
    "        \n",
    "        for c in s:\n",
    "            \n",
    "            "
   ]
  },
  {
   "cell_type": "code",
   "execution_count": 170,
   "metadata": {},
   "outputs": [
    {
     "name": "stdout",
     "output_type": "stream",
     "text": [
      "{'(': ')', '{': '}', '[': ']'}\n",
      "None\n"
     ]
    }
   ],
   "source": [
    "S = Solution()\n",
    "print(S.isValid(''))"
   ]
  },
  {
   "cell_type": "markdown",
   "metadata": {},
   "source": [
    "## Linked List Questions\n",
    "\n",
    "### Find middle node\n",
    "\n",
    "* using a fast and a slow pointer, fast move 2x faster than the slow, when fast reach the end, slow is the middle node\n",
    "* need to check both fast and fast.next for the while loop to avoid None has not next error\n",
    "* $O(n)$\n",
    "\n",
    "### Find loop \n",
    "\n",
    "* to detect if there is a cycle or loop present in the linked list\n",
    "* Same idea, use a fast and slow pointer, fast is 2x faster than slow, this utilize Floyd's cycle-finding algorithm, also known as the \"tortoise and hare\" algorithm, to determine the presence of a loop efficiently.\n",
    "* If there is a loop in the list, the fast pointer will eventually meet the slow pointer.\n",
    "* $O(n)$\n",
    "\n",
    "### Find kth node from end\n",
    "\n",
    "* to find k-th node from the end of linked list without using length\n",
    "* similar idea use a slow and fast pointer, fast move k nodes ahead, then both slow and fast move until the fast reach the end\n",
    "* need to watch out the cases where fast become none during the operations"
   ]
  },
  {
   "cell_type": "code",
   "execution_count": 1,
   "metadata": {},
   "outputs": [],
   "source": [
    "class Node:\n",
    "    def __init__(self, value):\n",
    "        self.value = value\n",
    "        self.next = None\n",
    "        \n",
    "\n",
    "class LinkedList:\n",
    "    def __init__(self, value):\n",
    "        new_node = Node(value)\n",
    "        self.head = new_node\n",
    "        self.tail = new_node\n",
    "\n",
    "        \n",
    "    def append(self, value):\n",
    "        new_node = Node(value)\n",
    "        if self.head == None:\n",
    "            self.head = new_node\n",
    "            self.tail = new_node\n",
    "        else:\n",
    "            self.tail.next = new_node\n",
    "            self.tail = new_node\n",
    "        return True\n",
    "        \n",
    "\n",
    "    def find_middle_node(self):\n",
    "        if self.head is None:\n",
    "            return None\n",
    "        \n",
    "        fast = self.head\n",
    "        slow = self.head\n",
    "        while fast is not None and fast.next is not None:\n",
    "            fast = fast.next.next\n",
    "            slow = slow.next\n",
    "        return slow\n",
    "    \n",
    "    def has_loop(self):\n",
    "        fast = self.head\n",
    "        slow = self.head\n",
    "        while fast is not None and fast.next is not None:\n",
    "            fast = fast.next.next\n",
    "            slow = slow.next\n",
    "            if fast == slow:\n",
    "                return True\n",
    "        return False\n",
    "\n",
    "def find_kth_from_end(ll, k):\n",
    "    slow = ll.head\n",
    "    fast = ll.head\n",
    "    for _ in range(k):\n",
    "        if fast is None:\n",
    "            return None\n",
    "        fast = fast.next\n",
    "    \n",
    "    while fast is not None:\n",
    "        fast = fast.next\n",
    "        slow = slow.next\n",
    "    return slow"
   ]
  },
  {
   "cell_type": "markdown",
   "metadata": {},
   "source": [
    "### Reverse between m and n index\n",
    "\n",
    "* LL does not have a tail and we can assume index n, m is valid\n",
    "* need to take care of empty and 1 node.\n",
    "* create dummpy node to handel cases where the head of list is also reversed"
   ]
  },
  {
   "cell_type": "code",
   "execution_count": 19,
   "metadata": {},
   "outputs": [],
   "source": [
    "class Node:\n",
    "    def __init__(self, value):\n",
    "        self.value = value\n",
    "        self.next = None\n",
    "        \n",
    "class LinkedList:\n",
    "    def __init__(self, value):\n",
    "        new_node = Node(value)\n",
    "        self.head = new_node\n",
    "        self.length = 1\n",
    "\n",
    "    def append(self, value):\n",
    "        new_node = Node(value)\n",
    "        if self.length == 0:\n",
    "            self.head = new_node\n",
    "        else:\n",
    "            current = self.head\n",
    "            while current.next is not None:\n",
    "                current = current.next\n",
    "            current.next = new_node\n",
    "        self.length += 1\n",
    "        return True\n",
    "    \n",
    "    def print_list(self):\n",
    "        temp = self.head\n",
    "        while temp is not None:\n",
    "            print(temp.value)\n",
    "            temp = temp.next    \n",
    "            \n",
    "    def make_empty(self):\n",
    "        self.head = None\n",
    "        self.length = 0\n",
    "\n",
    "    def reverse_between(self, m, n):\n",
    "        # Return None if the list is empty\n",
    "        if not self.head:\n",
    "            return None\n",
    "\n",
    "        # Create a dummy node and set it before head\n",
    "        dummy = Node(0)\n",
    "        dummy.next = self.head\n",
    "        prev = dummy\n",
    "\n",
    "        # Move prev to the node at index m-1\n",
    "        for i in range(m):\n",
    "            prev = prev.next\n",
    "\n",
    "        # Set current to the node at index m\n",
    "        current = prev.next\n",
    "\n",
    "        # Reverse the sublist between indices m and n\n",
    "        for i in range(n - m):\n",
    "            # Set temp to the next node to be reversed\n",
    "            temp = current.next\n",
    "            # Detach temp and connect current to next node\n",
    "            current.next = temp.next\n",
    "            # Place temp at the beginning of the reversed section\n",
    "            temp.next = prev.next\n",
    "            # Connect temp to the part before the reversed section\n",
    "            prev.next = temp\n",
    "\n",
    "        # Update the head of the list if necessary\n",
    "        self.head = dummy.next"
   ]
  },
  {
   "cell_type": "markdown",
   "metadata": {},
   "source": [
    "### Partition List\n",
    "\n",
    "* You are given a singly linked list implementation in Python that does not have a tail pointer (which will make this method simpler to implement). You are tasked with implementing a method partition_list(self, x) that will take an integer x and partition the linked list such that all nodes with values less than x come before nodes with values greater than or equal to x. You should preserve the original relative order of the nodes in each of the two partitions.\n",
    "* Create 2 LL to store nodes < x and nodes >= x by interate through the current LL"
   ]
  },
  {
   "cell_type": "code",
   "execution_count": 1,
   "metadata": {},
   "outputs": [],
   "source": [
    "class Node:\n",
    "    def __init__(self, value):\n",
    "        self.value = value\n",
    "        self.next = None\n",
    "        \n",
    "class LinkedList:\n",
    "    def __init__(self, value):\n",
    "        new_node = Node(value)\n",
    "        self.head = new_node\n",
    "        self.length = 1\n",
    "\n",
    "    def append(self, value):\n",
    "        new_node = Node(value)\n",
    "        if self.length == 0:\n",
    "            self.head = new_node\n",
    "        else:\n",
    "            current_node = self.head\n",
    "            while current_node.next is not None:\n",
    "                current_node = current_node.next\n",
    "            current_node.next = new_node\n",
    "        self.length += 1 \n",
    "    \n",
    "    def print_list(self):\n",
    "        temp = self.head\n",
    "        while temp is not None:\n",
    "            print(temp.value)\n",
    "            temp = temp.next    \n",
    "            \n",
    "    def make_empty(self):\n",
    "        self.head = None\n",
    "        self.tail = None\n",
    "        self.length = 0\n",
    "\n",
    "    # This function partitions a linked list based on a given value x\n",
    "    def partition_list(self, x):\n",
    "\n",
    "        # If linked list is empty, return None\n",
    "        if not self.head:\n",
    "            return None\n",
    "\n",
    "        # Create two dummy nodes to be used as placeholders\n",
    "        # One will hold values less than x and the other will hold values greater\n",
    "        # than or equal to x\n",
    "        dummy1 = Node(0)\n",
    "        dummy2 = Node(0)\n",
    "        prev1 = dummy1\n",
    "        prev2 = dummy2\n",
    "\n",
    "        # Start with the head node of the linked list\n",
    "        current = self.head\n",
    "\n",
    "        # Traverse through the linked list and move each node to either\n",
    "        # dummy1 or dummy2 depending on its value compared to x\n",
    "        while current:\n",
    "            if current.value < x:\n",
    "                prev1.next = current\n",
    "                prev1 = current\n",
    "            else:\n",
    "                prev2.next = current\n",
    "                prev2 = current\n",
    "            current = current.next\n",
    "\n",
    "        # Terminate dummy2 list with None\n",
    "        prev2.next = None\n",
    "\n",
    "        # Combine the two partitioned linked lists by pointing the last node\n",
    "        # in the dummy1 list to the first node in the dummy2 list\n",
    "        prev1.next = dummy2.next\n",
    "\n",
    "        # Set the head of the linked list to the first node in dummy1\n",
    "        self.head = dummy1.next"
   ]
  },
  {
   "cell_type": "markdown",
   "metadata": {},
   "source": [
    "### Remove duplcates\n",
    "\n",
    "* Your task is to implement a method called remove_duplicates() within the LinkedList class that removes all duplicate values from the list. Your method should not create a new list, but rather modify the existing list in-place, preserving the relative order of the nodes.\n",
    "* Using a Set - This approach will have a time complexity of O(n), where n is the number of nodes in the linked list. You are allowed to use the provided Set data structure in your implementation"
   ]
  },
  {
   "cell_type": "code",
   "execution_count": null,
   "metadata": {},
   "outputs": [],
   "source": [
    "class Node:\n",
    "    \n",
    "    def __init__(self, value):\n",
    "        self.value = value\n",
    "        self.next = None\n",
    "        \n",
    "class LinkedList:\n",
    "    def __init__(self, value):\n",
    "        new_node = Node(value)\n",
    "        self.head = new_node\n",
    "        self.length = 1\n",
    "        \n",
    "    def print_list(self):\n",
    "        temp = self.head\n",
    "        while temp is not None:\n",
    "            print(temp.value)\n",
    "            temp = temp.next          \n",
    "\n",
    "    def append(self, value):\n",
    "        new_node = Node(value)\n",
    "        if self.length == 0:\n",
    "            self.head = new_node\n",
    "        else:\n",
    "            current = self.head\n",
    "            while current.next is not None:\n",
    "                current = current.next\n",
    "            current.next = new_node\n",
    "        self.length += 1\n",
    "\n",
    "    def remove_duplicates(self):\n",
    "        values = set()\n",
    "        \n",
    "        current = self.head\n",
    "        prev = None\n",
    "        \n",
    "        while current:\n",
    "            if current.value in values:\n",
    "                previous.next = current.next\n",
    "                self.length -= 1\n",
    "            else:\n",
    "                values.add(current.value)\n",
    "                previous = current\n",
    "            current = current.next\n",
    "            "
   ]
  },
  {
   "cell_type": "markdown",
   "metadata": {},
   "source": [
    "### DLL swap head and tail\n",
    "\n",
    "Swap the values of the first and last node. Note that the pointers to the nodes themselves are not swapped - only their values are exchanged."
   ]
  },
  {
   "cell_type": "code",
   "execution_count": 2,
   "metadata": {},
   "outputs": [],
   "source": [
    "class DoublyLinkedList:\n",
    "    def __init__(self, value):\n",
    "        new_node = Node(value)\n",
    "        self.head = new_node\n",
    "        self.tail = new_node\n",
    "        self.length = 1\n",
    "\n",
    "    def print_list(self):\n",
    "        temp = self.head\n",
    "        while temp is not None:\n",
    "            print(temp.value)\n",
    "            temp = temp.next\n",
    "        \n",
    "    def append(self, value):\n",
    "        new_node = Node(value)\n",
    "        if self.head is None:\n",
    "            self.head = new_node\n",
    "            self.tail = new_node\n",
    "        else:\n",
    "            self.tail.next = new_node\n",
    "            new_node.prev = self.tail\n",
    "            self.tail = new_node\n",
    "        self.length += 1\n",
    "        return True\n",
    "\n",
    "    def swap_first_last(self):\n",
    "        if self.head is None or self.head == self.tail:\n",
    "            return\n",
    "    \n",
    "        self.head.value, self.tail.value = self.tail.value, self.head.value"
   ]
  },
  {
   "cell_type": "markdown",
   "metadata": {},
   "source": [
    "### Reverse DLL\n",
    "Create a new method called reverse that reverses the order of the nodes in the list, i.e., the first node becomes the last node, the second node becomes the second-to-last node, and so on.\n",
    "\n",
    "To do this, you'll need to traverse the list and change the direction of the pointers between the nodes so that they point in the opposite direction.\n",
    "\n",
    "Do not change the value of any of the nodes. Once you've done this for all nodes, you'll also need to update the head and tail pointers to reflect the new order of the nodes."
   ]
  },
  {
   "cell_type": "code",
   "execution_count": 3,
   "metadata": {},
   "outputs": [],
   "source": [
    "    def reverse(self):\n",
    "        temp = self.head\n",
    "        while temp is not None:\n",
    "            # swap the prev and next pointers of node points to\n",
    "            temp.prev, temp.next = temp.next, temp.prev\n",
    "            \n",
    "            # move to the next node\n",
    "            temp = temp.prev\n",
    "            \n",
    "        # swap the head and tail pointers\n",
    "        self.head, self.tail = self.tail, self.head"
   ]
  },
  {
   "cell_type": "markdown",
   "metadata": {},
   "source": [
    "### Is Palindrome?\n",
    "Write a method to determine whether a given doubly linked list reads the same forwards and backwards.\n",
    "\n",
    "For example, if the list contains the values [1, 2, 3, 2, 1], then the method should return True, since the list is a palindrome.\n",
    "\n",
    "If the list contains the values [1, 2, 3, 4, 5], then the method should return False, since the list is not a palindrome.\n"
   ]
  },
  {
   "cell_type": "code",
   "execution_count": 4,
   "metadata": {},
   "outputs": [],
   "source": [
    "    def is_palindrome(self):\n",
    "        if self.length <= 1:\n",
    "            return True\n",
    "        forward_node = self.head\n",
    "        backward_node = self.tail\n",
    "        for i in range(self.length // 2):\n",
    "            if forward_node.value != backward_node.value:\n",
    "                return False\n",
    "            forward_node = forward_node.next\n",
    "            backward_node = backward_node.prev\n",
    "        return True"
   ]
  },
  {
   "cell_type": "markdown",
   "metadata": {},
   "source": [
    "### Swap Notes in Pairs\n",
    "\n",
    "You are given a doubly linked list.\n",
    "\n",
    "Implement a method called swap_pairs within the class that swaps the values of adjacent nodes in the linked list. The method should not take any input parameters.\n",
    "\n",
    "Note: This DoublyLinkedList does not have a tail pointer which will make the implementation easier."
   ]
  },
  {
   "cell_type": "markdown",
   "metadata": {},
   "source": [
    "### Add two numbers\n",
    "\n",
    "You are given two non-empty linked lists representing two non-negative integers. The digits are stored in reverse order, and each of their nodes contains a single digit. Add the two numbers and return the sum as a linked list.\n",
    "\n",
    "You may assume the two numbers do not contain any leading zero, except the number 0 itself.\n",
    "\n",
    "Constraints:\n",
    "\n",
    "* The number of nodes in each linked list is in the range [1, 100].\n",
    "* 0 <= Node.val <= 9\n",
    "* It is guaranteed that the list represents a number that does not have leading zeros."
   ]
  },
  {
   "cell_type": "code",
   "execution_count": 3,
   "metadata": {},
   "outputs": [],
   "source": [
    "from typing import Optional\n",
    "# Definition for singly-linked list.\n",
    "class ListNode:\n",
    "    def __init__(self, val=0, next=None):\n",
    "        self.val = val\n",
    "        self.next = next\n",
    "\n",
    "        \n",
    "class Solution:\n",
    "    def addTwoNumbers(self, l1: Optional[ListNode], l2: Optional[ListNode]) -> Optional[ListNode]:\n",
    "        dummy = ListNode()\n",
    "        tail, carry = dummy, 0\n",
    "        \n",
    "        while l1 or l2 or carry != 0:\n",
    "            num1 = l1.val if l1 else 0\n",
    "            num2 = l2.val if l2 else 0\n",
    "            \n",
    "            nodeVal = num1 + num2 + carry\n",
    "            carry = nodeVal // 10 \n",
    "            nodeVal = nodeVal % 10\n",
    "            tail.next = ListNode(nodeVal)\n",
    "            \n",
    "            l1 = l1.next if l1 else None\n",
    "            l2 = l2.next if l2 else None\n",
    "            tail = tail.next\n",
    "        return dummy.next"
   ]
  },
  {
   "cell_type": "markdown",
   "metadata": {},
   "source": [
    "###  Parentheses balanced\n",
    "\n",
    "Check to see if a string of parentheses is balanced or not.\n",
    "\n",
    "By \"balanced,\" we mean that for every open parenthesis, there is a matching closing parenthesis in the correct order. For example, the string \"((()))\" has three pairs of balanced parentheses, so it is a balanced string. On the other hand, the string \"(()))\" has an imbalance, as the last two parentheses do not match, so it is not balanced.  Also, the string \")(\" is not balanced because the close parenthesis needs to follow the open parenthesis.\n",
    "\n",
    "Your program should take a string of parentheses as input and return True if it is balanced, or False if it is not. In order to solve this problem, use a Stack data structure.\n",
    "\n",
    "Function name:\n",
    "`is_balanced_parentheses`"
   ]
  },
  {
   "cell_type": "code",
   "execution_count": 24,
   "metadata": {},
   "outputs": [
    {
     "name": "stdout",
     "output_type": "stream",
     "text": [
      "True\n",
      "False\n",
      "False\n"
     ]
    }
   ],
   "source": [
    "class Stack:\n",
    "    def __init__(self):\n",
    "        self.stack_list = []\n",
    "\n",
    "    def print_stack(self):\n",
    "        for i in range(len(self.stack_list)-1, -1, -1):\n",
    "            print(self.stack_list[i])\n",
    "\n",
    "    def is_empty(self):\n",
    "        return len(self.stack_list) == 0\n",
    "\n",
    "    def peek(self):\n",
    "        if self.is_empty():\n",
    "            return None\n",
    "        else:\n",
    "            return self.stack_list[-1]\n",
    "\n",
    "    def size(self):\n",
    "        return len(self.stack_list)\n",
    "\n",
    "    def push(self, value):\n",
    "        self.stack_list.append(value)\n",
    "\n",
    "    def pop(self):\n",
    "        if self.is_empty():\n",
    "            return None\n",
    "        else:\n",
    "            return self.stack_list.pop()\n",
    "\n",
    "        \n",
    "def is_balanced_parentheses(parentheses):\n",
    "    stack = Stack()\n",
    "    for p in parentheses:\n",
    "        if p == '(':\n",
    "            stack.push(p)\n",
    "        elif p == ')':\n",
    "            if stack.is_empty() or stack.pop() != '(':\n",
    "                return False\n",
    "    return stack.is_empty()\n",
    "\n",
    "\n",
    "    \n",
    "balanced_parentheses = '((()))'\n",
    "unbalanced_parentheses = '((())))'\n",
    "test = ')))((('\n",
    "\n",
    "print( is_balanced_parentheses(balanced_parentheses) )\n",
    "print( is_balanced_parentheses(unbalanced_parentheses) )\n",
    "print( is_balanced_parentheses(test))"
   ]
  },
  {
   "cell_type": "markdown",
   "metadata": {},
   "source": [
    "### Reverse String\n",
    "\n",
    "The reverse_string function takes a single parameter string, which is the string you want to reverse.\n",
    "\n",
    "Return a new string with the letters in reverse order."
   ]
  },
  {
   "cell_type": "code",
   "execution_count": 25,
   "metadata": {},
   "outputs": [],
   "source": [
    "def reverse_string(s):\n",
    "    stack = Stack()\n",
    "    \n",
    "    for c in s:\n",
    "        stack.push(c) \n",
    "    \n",
    "    reverse = ''\n",
    "    while not stack.is_empty():\n",
    "        reverse += stack.pop()\n",
    "    return reverse"
   ]
  },
  {
   "cell_type": "markdown",
   "metadata": {},
   "source": [
    "### Sort Stack\n",
    "\n",
    "The sort_stack function takes a single argument, a Stack object.  The function should sort the elements in the stack in ascending order (the lowest value will be at the top of the stack) using only one additional stack. \n",
    "\n",
    "The function should use the pop, push, peek, and is_empty methods of the Stack object.\n",
    "\n",
    "Overall, this implementation has a time complexity of O(n^2), where n is the number of elements in the original stack, because the function performs nested loops to compare all the elements with each other. However, it has the advantage of using only one additional stack, which could be useful in certain situations where memory is limited."
   ]
  },
  {
   "cell_type": "code",
   "execution_count": 26,
   "metadata": {},
   "outputs": [],
   "source": [
    "def sort_stack(stack):\n",
    "    # Create a new stack to hold the sorted elements\n",
    "    additional_stack = Stack()\n",
    " \n",
    "    # While the original stack is not empty\n",
    "    while not stack.is_empty():\n",
    "        # Remove the top element from the original stack\n",
    "        temp = stack.pop()\n",
    " \n",
    "        # While the additional stack is not empty and \n",
    "        #the top element is greater than the current element\n",
    "        while not additional_stack.is_empty() and additional_stack.peek() > temp:\n",
    "            # Move the top element from the additional stack to the original stack\n",
    "            stack.push(additional_stack.pop())\n",
    " \n",
    "        # Add the current element to the additional stack\n",
    "        additional_stack.push(temp)\n",
    " \n",
    "    # Copy the sorted elements from the additional stack to the original stack\n",
    "    while not additional_stack.is_empty():\n",
    "        stack.push(additional_stack.pop())"
   ]
  },
  {
   "cell_type": "markdown",
   "metadata": {},
   "source": [
    "### Queue using stack: Enqueue\n",
    "\n",
    "You are given a class MyQueue which implements a queue using two stacks. Your task is to implement the enqueue method which should add an element to the back of the queue.\n",
    "\n",
    "To achieve this, you can use the two stacks stack1 and stack2. Initially, all elements are stored in stack1 and stack2 is empty. In order to add an element to the back of the queue, you need to first transfer all elements from stack1 to stack2 using a loop that pops each element from stack1 and pushes it onto stack2.\n",
    "\n",
    "Once all elements have been transferred to stack2, push the new element onto stack1. Finally, transfer all elements from stack2 back to stack1 in the same way as before, so that the queue maintains its ordering.\n",
    "\n",
    "Your implementation should satisfy the following constraints:\n",
    "\n",
    "* The method signature should be def enqueue(self, value).\n",
    "* The method should add the element value to the back of the queue."
   ]
  },
  {
   "cell_type": "code",
   "execution_count": 27,
   "metadata": {},
   "outputs": [],
   "source": [
    "    def enqueue(self, value):\n",
    "        # Transfer all elements from stack1 to stack2\n",
    "        while len(self.stack1) > 0:\n",
    "            self.stack2.append(self.stack1.pop())\n",
    "\n",
    "        # Add the new element to the bottom of stack1\n",
    "        self.stack1.append(value)\n",
    "\n",
    "        # Transfer all elements back from stack2 to stack1\n",
    "        while len(self.stack2) > 0:\n",
    "            self.stack1.append(self.stack2.pop())"
   ]
  },
  {
   "cell_type": "markdown",
   "metadata": {},
   "source": [
    "### Queue using Stack: denqueue\n",
    "\n",
    "You have been tasked with implementing a queue data structure using two stacks in Python, and you need to write the dequeue method.\n",
    "\n",
    "The dequeue method should remove and return the first element in the queue."
   ]
  },
  {
   "cell_type": "code",
   "execution_count": 33,
   "metadata": {},
   "outputs": [],
   "source": [
    "    def dequeue(self):\n",
    "        if len(self.stack1) == 0:\n",
    "            return None\n",
    "        return self.stack1.pop()"
   ]
  },
  {
   "cell_type": "markdown",
   "metadata": {},
   "source": [
    "## Hash Table Questions"
   ]
  },
  {
   "cell_type": "markdown",
   "metadata": {},
   "source": [
    "### Find common from 2 list\n",
    "\n",
    "* Use hashtable to avoid nested loop"
   ]
  },
  {
   "cell_type": "code",
   "execution_count": 39,
   "metadata": {},
   "outputs": [
    {
     "name": "stdout",
     "output_type": "stream",
     "text": [
      "True\n"
     ]
    }
   ],
   "source": [
    "def item_in_common(list1, list2):\n",
    "    my_dict = {}\n",
    "    for i in list1:\n",
    "        my_dict[i] = True\n",
    " \n",
    "    for j in list2:\n",
    "        if j in my_dict:\n",
    "            return True\n",
    " \n",
    "    return False\n",
    "\n",
    "l1 = [2, 3, 4]\n",
    "l2 = [4, 5, 6]\n",
    "print(item_in_common(l1, l2))"
   ]
  },
  {
   "cell_type": "markdown",
   "metadata": {},
   "source": [
    "### Find duplicates\n",
    "\n",
    "Problem: Given an array of integers nums, find all the duplicates in the array using a hash table (dictionary).\n",
    "\n",
    "\n",
    "Input:  \n",
    "\n",
    "A list of integers nums.\n",
    "\n",
    "Output:\n",
    "\n",
    "A list of integers representing the numbers in the input array nums that appear more than once. If no duplicates are found in the input array, return an empty list [].\n",
    "\n",
    "complexity: $O(n)$"
   ]
  },
  {
   "cell_type": "code",
   "execution_count": 47,
   "metadata": {},
   "outputs": [
    {
     "name": "stdout",
     "output_type": "stream",
     "text": [
      "[]\n",
      "[2]\n",
      "[1]\n"
     ]
    }
   ],
   "source": [
    "def find_duplicates(l):\n",
    "    if len(l) == 0:\n",
    "        return []\n",
    "        \n",
    "    my_dict = {}\n",
    "    dup_dict = {}\n",
    "    for i in l:\n",
    "        if i in my_dict:\n",
    "            dup_dict[i] = True\n",
    "        else:\n",
    "            my_dict[i] = True\n",
    "    return list(dup_dict.keys())\n",
    "\n",
    "def find_duplicates(nums):\n",
    "    num_counts = {}\n",
    "    for num in nums:\n",
    "        num_counts[num] = num_counts.get(num, 0) + 1\n",
    "    duplicates = [num for num, count in num_counts.items() if count > 1]\n",
    "    return duplicates\n",
    "\n",
    "from collections import defaultdict\n",
    "def find_duplicates(nums):\n",
    "    num_counts = defaultdict(int)\n",
    "    for num in nums:\n",
    "        num_counts[num]+=1\n",
    "    duplicates = [num for num, count in num_counts.items() if count > 1]\n",
    "    return duplicates\n",
    "\n",
    "print ( find_duplicates([1, 2, 3, 4, 5]))\n",
    "print ( find_duplicates([1, 2, 3, 2, 4, 5]))\n",
    "print ( find_duplicates([1, 1, 1, 1]))"
   ]
  },
  {
   "cell_type": "markdown",
   "metadata": {},
   "source": [
    "### First non-repeat characters\n",
    "\n",
    "You have been given a string of lowercase letters.\n",
    "\n",
    "Write a function called first_non_repeating_char(string) that finds the first non-repeating character in the given string using a hash table (dictionary). If there is no non-repeating character in the string, the function should return None.\n",
    "\n",
    "For example, if the input string is \"leetcode\", the function should return \"l\" because \"l\" is the first character that appears only once in the string. Similarly, if the input string is \"hello\", the function should return \"h\" because \"h\" is the first non-repeating character in the string.\n",
    "\n",
    "Time complexity: $O(n)$"
   ]
  },
  {
   "cell_type": "code",
   "execution_count": 60,
   "metadata": {},
   "outputs": [
    {
     "name": "stdout",
     "output_type": "stream",
     "text": [
      "l\n",
      "h\n",
      "None\n",
      "b\n"
     ]
    }
   ],
   "source": [
    "def first_non_repeating_char(word):\n",
    "    freq = {}\n",
    "    for i, c in enumerate(word):\n",
    "        freq[c] = freq.get(c, 0) + 1\n",
    "    for c in word:\n",
    "        if freq[c] == 1:\n",
    "            return c\n",
    "    return None\n",
    "\n",
    "print( first_non_repeating_char('leetcode') )\n",
    "print( first_non_repeating_char('hello') )\n",
    "print( first_non_repeating_char('aabbcc') )\n",
    "print( first_non_repeating_char('aabc') )"
   ]
  },
  {
   "cell_type": "markdown",
   "metadata": {},
   "source": [
    "### Group Anagrams\n",
    "\n",
    "You have been given an array of strings, where each string may contain only lowercase English letters. You need to write a function group_anagrams(strings) that groups the anagrams in the array together using a hash table (dictionary). The function should return a list of lists, where each inner list contains a group of anagrams.\n",
    "\n",
    "For example, if the input array is [\"eat\", \"tea\", \"tan\", \"ate\", \"nat\", \"bat\"], the function should return [[\"eat\",\"tea\",\"ate\"],[\"tan\",\"nat\"],[\"bat\"]] because the first three strings are anagrams of each other, the next two strings are anagrams of each other, and the last string has no anagrams in the input array.\n",
    "\n",
    "You need to implement the group_anagrams(strings) function and return a list of lists, where each inner list contains a group of anagrams according to the above requirements."
   ]
  },
  {
   "cell_type": "code",
   "execution_count": 78,
   "metadata": {},
   "outputs": [
    {
     "name": "stdout",
     "output_type": "stream",
     "text": [
      "1st set:\n",
      "[['eat', 'tea', 'ate'], ['tan', 'nat'], ['bat']]\n",
      "\n",
      "2nd set:\n",
      "[['abc', 'cba', 'bac'], ['foo'], ['bar']]\n",
      "\n",
      "3rd set:\n",
      "[['listen', 'silent'], ['triangle', 'integral'], ['garden', 'ranged']]\n"
     ]
    }
   ],
   "source": [
    "def group_anagrams(strings):\n",
    "    anagram_groups = {}\n",
    "    for string in strings:\n",
    "        canonical = ''.join(sorted(string))\n",
    "        if canonical in anagram_groups:\n",
    "            anagram_groups[canonical].append(string)\n",
    "        else:\n",
    "            anagram_groups[canonical] = [string]\n",
    "    return list(anagram_groups.values())\n",
    "\n",
    "\n",
    "print(\"1st set:\")\n",
    "print( group_anagrams([\"eat\", \"tea\", \"tan\", \"ate\", \"nat\", \"bat\"]) )\n",
    "\n",
    "print(\"\\n2nd set:\")\n",
    "print( group_anagrams([\"abc\", \"cba\", \"bac\", \"foo\", \"bar\"]) )\n",
    "\n",
    "print(\"\\n3rd set:\")\n",
    "print( group_anagrams([\"listen\", \"silent\", \"triangle\", \"integral\", \"garden\", \"ranged\"]) )"
   ]
  },
  {
   "cell_type": "markdown",
   "metadata": {},
   "source": [
    "### Two Sum\n",
    "\n",
    "Problem: Given an array of integers nums and a target integer target, find the indices of two numbers in the array that add up to the target.\n",
    "\n",
    "Input:\n",
    "\n",
    "A list of integers nums .\n",
    "\n",
    "A target integer target.\n",
    "\n",
    "Output:\n",
    "\n",
    "A list of two integers representing the indices of the two numbers in the input array nums that add up to the target. If no two numbers in the input array add up to the target, return an empty list [].\n",
    "\n",
    "Complexity: $O(n)$"
   ]
  },
  {
   "cell_type": "code",
   "execution_count": 85,
   "metadata": {},
   "outputs": [
    {
     "name": "stdout",
     "output_type": "stream",
     "text": [
      "[0, 1]\n",
      "[1, 2]\n",
      "[0, 1]\n",
      "[]\n",
      "[2, 3]\n",
      "[0, 1]\n",
      "[]\n"
     ]
    }
   ],
   "source": [
    "def two_sum(nums, target):\n",
    "    if len(nums) < 2:\n",
    "        return []\n",
    "    store = {}\n",
    "    for i, n in enumerate(nums):\n",
    "        if target - n in store:\n",
    "            return [store[target-n], i]\n",
    "        else:\n",
    "            store[n] = i\n",
    "    return []\n",
    "            \n",
    "print ( two_sum([2, 7, 11, 15], 9) )\n",
    "print ( two_sum([3, 2, 4], 6) )\n",
    "print ( two_sum([3, 3], 6) )\n",
    "print ( two_sum([1, 2, 3, 4, 5], 10) )\n",
    "print ( two_sum([1, 2, 3, 4, 5], 7) )\n",
    "print ( two_sum([1, 2, 3, 4, 5], 3) )\n",
    "print ( two_sum([], 0) )"
   ]
  },
  {
   "cell_type": "markdown",
   "metadata": {},
   "source": [
    "### Subarray Sum\n",
    "\n",
    "Given an array of integers nums and a target integer target, write a Python function called `subarray_sum` that finds the indices of a contiguous subarray in nums that add up to the target sum using a hash table (dictionary).\n",
    "\n",
    "Your function should take two arguments:\n",
    "\n",
    "* nums: a list of integers representing the input array\n",
    "* target: an integer representing the target sum\n",
    "\n",
    "\n",
    "Your function should return a list of two integers representing the starting and ending indices of the subarray that adds up to the target sum. If there is no such subarray, your function should return an empty list.\n",
    "\n",
    "For example:\n",
    "\n",
    "```python\n",
    "nums = [1, 2, 3, 4, 5]\n",
    "target = 9\n",
    "print(subarray_sum(nums, target))  # should print [1, 3]\n",
    "```\n",
    "\n",
    "Note that there may be multiple subarrays that add up to the target sum, but your function only needs to return the indices of any one such subarray. Also, the input list may contain both positive and negative integers.\n",
    "\n",
    "Complexity: $O(n)$"
   ]
  },
  {
   "cell_type": "code",
   "execution_count": 104,
   "metadata": {},
   "outputs": [
    {
     "name": "stdout",
     "output_type": "stream",
     "text": [
      "{0: -1, 1: 0}\n",
      "{0: -1, 1: 0, 3: 1}\n",
      "{0: -1, 1: 0, 3: 1, 6: 2}\n",
      "[1, 3]\n",
      "{0: -1, -1: 0}\n",
      "{0: -1, -1: 0, 1: 1}\n",
      "{0: -1, -1: 0, 1: 1, 4: 2}\n",
      "[0, 3]\n",
      "{0: -1, 2: 0}\n",
      "[1, 1]\n",
      "[]\n"
     ]
    }
   ],
   "source": [
    "def subarray_sum(nums, target):\n",
    "    sum_index = {0: -1}\n",
    "    current_sum = 0\n",
    "    for i, num in enumerate(nums):\n",
    "        current_sum += num\n",
    "        if current_sum - target in sum_index:\n",
    "            return [sum_index[current_sum - target] + 1, i]\n",
    "        sum_index[current_sum] = i\n",
    "    return []\n",
    "\n",
    "nums = [1, 2, 3, 4, 5]\n",
    "target = 9\n",
    "print (subarray_sum(nums, target))\n",
    "\n",
    "nums = [-1, 2, 3, -4, 5]\n",
    "target = 0\n",
    "print ( subarray_sum(nums, target) )\n",
    "\n",
    "nums = [2, 3, 4, 5, 6]\n",
    "target = 3\n",
    "print ( subarray_sum(nums, target) )\n",
    "\n",
    "nums = []\n",
    "target = 0\n",
    "print ( subarray_sum(nums, target) )"
   ]
  },
  {
   "cell_type": "markdown",
   "metadata": {},
   "source": [
    "###  Set: Has Unique Chars\n",
    "\n",
    "Write a function called has_unique_chars that takes a string as input and returns True if all the characters in the string are unique, and False otherwise.\n",
    "\n",
    "For example, has_unique_chars('abcdefg') should return True, while has_unique_chars('hello') should return False.\n",
    "Set: remove duplicates"
   ]
  },
  {
   "cell_type": "code",
   "execution_count": 108,
   "metadata": {},
   "outputs": [],
   "source": [
    "def has_unique_chars(word):\n",
    "    return len(list(set(word))) == len(word)\n",
    "\n",
    "def has_unique_chars(string):\n",
    "    char_set = set()\n",
    "    for char in string:\n",
    "        if char in char_set:\n",
    "            return False\n",
    "        char_set.add(char)\n",
    "    return True"
   ]
  },
  {
   "cell_type": "markdown",
   "metadata": {},
   "source": [
    "### Set find pairs\n",
    "\n",
    "You are given two lists of integers, arr1 and arr2, and a target integer value, target. Your task is to find all pairs of numbers (one from arr1 and one from arr2) whose sum equals target.\n",
    "\n",
    "Write a function called find_pairs that takes in three arguments: arr1, arr2, and target, and returns a list of all such pairs.\n",
    "\n",
    "Input\n",
    "Your function should take in the following inputs:\n",
    "\n",
    "* arr1: a list of integers\n",
    "* arr2: a list of integers\n",
    "* target: an integer\n",
    "\n",
    "Output\n",
    "\n",
    "Your function should return a list of tuples, where each tuple contains two integers from arr1 and arr2 that add up to target.\n",
    "\n",
    "\n",
    "Example\n",
    "\n",
    "Here's an example of what your function should return:\n",
    "\n",
    "```python\n",
    "arr1 = [1, 2, 3, 4, 5]\n",
    "arr2 = [2, 4, 6, 8, 10]\n",
    "target = 7\n",
    " \n",
    "pairs = find_pairs(arr1, arr2, target)\n",
    "print (pairs)\n",
    "# Output: [(5, 2), (3, 4), (1, 6)]\n",
    "```\n",
    "\n",
    "In this example, the pairs (5, 2) , (3, 4) , and (1, 6) are the only pairs of numbers (one from arr1 and one from arr2) whose sum is 7."
   ]
  },
  {
   "cell_type": "code",
   "execution_count": 112,
   "metadata": {},
   "outputs": [
    {
     "name": "stdout",
     "output_type": "stream",
     "text": [
      "[(5, 2), (3, 4), (1, 6)]\n"
     ]
    }
   ],
   "source": [
    "def find_pairs(arr1, arr2, target):\n",
    "    set1 = list(set(arr1))\n",
    "    output = []\n",
    "    for n in arr2:\n",
    "        if target - n in set1:\n",
    "            output.append((target-n, n))\n",
    "    return output\n",
    "\n",
    "arr1 = [1, 2, 3, 4, 5]\n",
    "arr2 = [2, 4, 6, 8, 10]\n",
    "target = 7\n",
    "\n",
    "pairs = find_pairs(arr1, arr2, target)\n",
    "print (pairs)"
   ]
  },
  {
   "cell_type": "markdown",
   "metadata": {},
   "source": [
    "### Set Longest consecutive Sequence\n",
    "\n",
    "Given an unsorted array of integers, write a function that finds the length of the  longest_consecutive_sequence (i.e., sequence of integers in which each element is one greater than the previous element).\n",
    "\n",
    "Use sets to optimize the runtime of your solution.\n",
    "\n",
    "Input: An unsorted array of integers, nums.\n",
    "\n",
    "Output: An integer representing the length of the longest consecutive sequence in nums.\n",
    "\n",
    "Example:\n",
    "\n",
    "```python\n",
    "Input: nums = [100, 4, 200, 1, 3, 2]\n",
    "Output: 4\n",
    "Explanation: The longest consecutive sequence in the input array is [4, 3, 2, 1], and its length is 4.\n",
    "```"
   ]
  },
  {
   "cell_type": "code",
   "execution_count": 122,
   "metadata": {},
   "outputs": [
    {
     "name": "stdout",
     "output_type": "stream",
     "text": [
      "4\n"
     ]
    }
   ],
   "source": [
    "def longest_consecutive_sequence(nums):\n",
    "    # Create a set to keep track of the numbers in the array\n",
    "    num_set = set(nums)\n",
    "    longest_sequence = 0\n",
    "    \n",
    "    # Loop through the numbers in the nums array\n",
    "    for num in nums:\n",
    "        # Check if the current number is the start of a new sequence\n",
    "        if num - 1 not in num_set:\n",
    "            current_num = num\n",
    "            current_sequence = 1\n",
    "            \n",
    "            # Keep incrementing the current number until the end of the sequence is reached\n",
    "            while current_num + 1 in num_set:\n",
    "                current_num += 1\n",
    "                current_sequence += 1\n",
    "            \n",
    "            # Update the longest sequence if the current sequence is longer\n",
    "            longest_sequence = max(longest_sequence, current_sequence)\n",
    "    \n",
    "    return longest_sequence\n",
    "\n",
    "        \n",
    "\n",
    "print(longest_consecutive_sequence([100, 4, 200, 1, 3, 2]))"
   ]
  },
  {
   "cell_type": "markdown",
   "metadata": {},
   "source": [
    "## Sorting Problems"
   ]
  },
  {
   "cell_type": "markdown",
   "metadata": {},
   "source": [
    "### Bubble Sort of LL\n",
    "\n",
    "Write a bubble_sort() method in the LinkedList class that will sort the elements of a linked list in ascending order using the bubble sort algorithm. The method should update the head and tail pointers of the linked list to reflect the new order of the nodes in the list. You can assume that the input linked list will contain only integers. You should not use any additional data structures to sort the linked list.\n",
    "\n",
    "Input:\n",
    "The LinkedList object containing a linked list with unsorted elements (self).\n",
    "\n",
    "Output:\n",
    "None. The method sorts the linked list in place.\n",
    "\n",
    "Method Description:\n",
    "\n",
    "* If the length of the linked list is less than 2, the method returns and the list is assumed to be already sorted.\n",
    "* The bubble sort algorithm works by repeatedly iterating through the unsorted part of the list, comparing adjacent elements and swapping them if they are in the wrong order.\n",
    "* The method starts with the entire linked list being the unsorted part of the list.\n",
    "* For each pass through the unsorted part of the list, the method iterates through each pair of adjacent elements and swaps them if they are in the wrong order.\n",
    "* After each pass, the largest element in the unsorted part of the list will \"bubble up\" to the end of the list.\n",
    "* The method continues iterating through the unsorted part of the list until no swaps are made during a pass.\n",
    "* After the linked list is fully sorted, the head and tail pointers of the linked list are updated to reflect the new order of the nodes in the list.\n",
    "\n",
    "\n",
    "Constraints:\n",
    "* The linked list can contain duplicates.\n",
    "* The method should be implemented in the LinkedList class.\n",
    "* The method should not use any additional data structures to sort the linked list."
   ]
  },
  {
   "cell_type": "code",
   "execution_count": 2,
   "metadata": {},
   "outputs": [],
   "source": [
    "# in-place sort\n",
    "def bubble_sort(self):\n",
    "    # Check if the list has less than 2 elements\n",
    "    if self.length < 2:\n",
    "        return\n",
    "    \n",
    "    # Initialize the sorted_until pointer to None\n",
    "    sorted_until = None\n",
    "    \n",
    "    # Continue sorting until sorted_until reaches the second node\n",
    "    while sorted_until != self.head.next:\n",
    "        # Initialize current pointer to head of the list\n",
    "        current = self.head\n",
    "        \n",
    "        # Iterate through unsorted portion of the list until sorted_until\n",
    "        while current.next != sorted_until:\n",
    "            next_node = current.next\n",
    "            \n",
    "            # Swap current and next_node values if current is greater\n",
    "            if current.value > next_node.value:\n",
    "                current.value, next_node.value = next_node.value, current.value\n",
    "            \n",
    "            # Move current pointer to next node\n",
    "            current = current.next\n",
    "        \n",
    "        # Update sorted_until pointer to the last node processed\n",
    "        sorted_until = current"
   ]
  },
  {
   "cell_type": "markdown",
   "metadata": {},
   "source": [
    "### Selection Sort of LL \n",
    "\n",
    "Write a selection_sort() method in the LinkedList class that will sort the elements of a linked list in ascending order using the selection sort algorithm. The method should update the head and tail pointers of the linked list to reflect the new order of the nodes in the list. You can assume that the input linked list will contain only integers. You should not use any additional data structures to sort the linked list.\n",
    "\n",
    "Input:\n",
    "\n",
    "The LinkedList object containing a linked list with unsorted elements (self).\n",
    "\n",
    "Output:\n",
    "\n",
    "None. The method sorts the linked list in place."
   ]
  },
  {
   "cell_type": "code",
   "execution_count": 4,
   "metadata": {},
   "outputs": [],
   "source": [
    "# Define a method to sort a linked list in ascending order \n",
    "# using the selection sort algorithm\n",
    "def selection_sort(self):\n",
    "    # If the linked list has less than 2 elements, it is already sorted\n",
    "    if self.length < 2:\n",
    "        return\n",
    " \n",
    "    # Start with the first node as the current node\n",
    "    current = self.head\n",
    " \n",
    "    # While there is at least one more node after the current node\n",
    "    while current.next is not None:\n",
    "        # Assume the current node has the smallest value so far\n",
    "        smallest = current\n",
    "        # Start with the next node as the inner current node\n",
    "        inner_current = current.next\n",
    "        \n",
    "        # Find the node with the smallest value among the remaining nodes\n",
    "        while inner_current is not None:\n",
    "            if inner_current.value < smallest.value:\n",
    "                smallest = inner_current\n",
    "            inner_current = inner_current.next\n",
    "        \n",
    "        # If the node with the smallest value is not the current node,\n",
    "        # swap their values\n",
    "        if smallest != current:\n",
    "            current.value, smallest.value = smallest.value, current.value        \n",
    "        current = current.next\n",
    "    # Set the tail of the linked list to the last node processed\n",
    "    self.tail = current"
   ]
  },
  {
   "cell_type": "markdown",
   "metadata": {},
   "source": [
    "### Insertion Sort of LL\n",
    "\n",
    "Assignment:\n",
    "\n",
    "Write an insertion_sort() method in the LinkedList class that will sort the elements of a linked list in ascending order using the insertion sort algorithm.\n",
    "\n",
    "The method should update the head and tail pointers of the linked list to reflect the new order of the nodes in the list.\n",
    "\n",
    "You can assume that the input linked list will contain only integers. You should not use any additional data structures to sort the linked list.\n",
    "\n",
    "\n",
    "\n",
    "Input:\n",
    "\n",
    "The LinkedList object containing a linked list with unsorted elements (self).\n",
    "\n",
    "\n",
    "\n",
    "Output:\n",
    "\n",
    "None. The method sorts the linked list in place."
   ]
  },
  {
   "cell_type": "code",
   "execution_count": 5,
   "metadata": {},
   "outputs": [],
   "source": [
    "def insertion_sort(self):\n",
    "    # Check if the length of the list is less than 2\n",
    "    if self.length < 2:\n",
    "        return\n",
    "    \n",
    "    # Set the pointer to the first element of the sorted list\n",
    "    sorted_list_head = self.head\n",
    "    \n",
    "    # Set the pointer to the second element of the list\n",
    "    unsorted_list_head = self.head.next\n",
    "    \n",
    "    # Remove the first element from the sorted list\n",
    "    sorted_list_head.next = None\n",
    "    \n",
    "    # Iterate through the unsorted list\n",
    "    while unsorted_list_head is not None:\n",
    "        # Save the current element\n",
    "        current = unsorted_list_head\n",
    "        \n",
    "        # Move the pointer to the next element in the unsorted list\n",
    "        unsorted_list_head = unsorted_list_head.next\n",
    "        \n",
    "        # Insert the current element into the sorted list\n",
    "        if current.value < sorted_list_head.value:\n",
    "            # If the current element is smaller than the first element \n",
    "            # in the sorted list, it becomes the new first element\n",
    "            current.next = sorted_list_head\n",
    "            sorted_list_head = current\n",
    "        else:\n",
    "            # Otherwise, search for the appropriate position to insert the current element\n",
    "            search_pointer = sorted_list_head\n",
    "            while search_pointer.next is not None and current.value > search_pointer.next.value:\n",
    "                search_pointer = search_pointer.next\n",
    "            current.next = search_pointer.next\n",
    "            search_pointer.next = current\n",
    "    \n",
    "    # Update the head and tail of the list\n",
    "    self.head = sorted_list_head\n",
    "    temp = self.head\n",
    "    while temp.next is not None:\n",
    "        temp = temp.next\n",
    "    self.tail = temp"
   ]
  },
  {
   "cell_type": "markdown",
   "metadata": {},
   "source": [
    "### Merge Two Sorted LL\n",
    "\n",
    "Description\n",
    "The merge method takes in another LinkedList as an input and merges it with the current LinkedList. The elements in both lists are assumed to be in ascending order, but the input lists themselves do not need to be sorted.\n",
    "\n",
    "Parameters\n",
    "other_list (LinkedList): the other LinkedList to merge with the current list\n",
    "\n",
    "Return Value\n",
    "This method does not return a value, but it modifies the current LinkedList to contain the merged list."
   ]
  },
  {
   "cell_type": "code",
   "execution_count": 6,
   "metadata": {},
   "outputs": [],
   "source": [
    "# Method to merge a linked list with another linked list\n",
    "def merge(self, other_list):\n",
    "    \n",
    "    # Get the head node of the other linked list\n",
    "    other_head = other_list.head\n",
    "    \n",
    "    # Create a dummy node to hold the merged list\n",
    "    dummy = Node(0)\n",
    "    \n",
    "    # Set the current node to the dummy node\n",
    "    current = dummy\n",
    " \n",
    "    # Loop while both lists still have nodes\n",
    "    while self.head is not None and other_head is not None:\n",
    "        \n",
    "        # Compare the values of the first nodes in each list\n",
    "        if self.head.value < other_head.value:\n",
    "            # If the value in the first list is smaller,\n",
    "            # add it to the current node and move to the next node in the first list\n",
    "            current.next = self.head\n",
    "            self.head = self.head.next\n",
    "        else:\n",
    "            # Otherwise, add the value from the second list\n",
    "            # and move to the next node in the second list\n",
    "            current.next = other_head\n",
    "            other_head = other_head.next\n",
    "            \n",
    "        # Move the current node to the next position\n",
    "        current = current.next\n",
    " \n",
    "    # If the first list still has nodes left, add them to the current node\n",
    "    if self.head is not None:\n",
    "        current.next = self.head\n",
    "    else:\n",
    "        # If the second list still has nodes left, add them to the current node\n",
    "        current.next = other_head\n",
    "        # Update the tail of the merged list to be the tail of the second list\n",
    "        self.tail = other_list.tail\n",
    " \n",
    "    # Set the head of the merged list to the next node after the dummy node\n",
    "    self.head = dummy.next\n",
    "    \n",
    "    # Update the length of the merged list\n",
    "    self.length += other_list.length"
   ]
  },
  {
   "cell_type": "markdown",
   "metadata": {},
   "source": [
    "##   BST: Kth Smallest Node\n",
    "\n",
    "Given a binary search tree, find the kth smallest element in the tree. For example, if the tree contains the elements [1, 2, 3, 4, 5], the 3rd smallest element would be 3.\n",
    "\n",
    "The solution to this problem usually involves traversing the tree in-order (left, root, right) and keeping track of the number of nodes visited until you find the kth smallest element. There are two main approaches to doing this:\n",
    "\n",
    "* Iterative approach using a stack: This approach involves maintaining a stack of nodes that still need to be visited, starting with the leftmost node. At each step, you pop a node off the stack, decrement the kth smallest counter, and check whether you have found the kth smallest element. If you have not, you continue traversing the tree by moving to the right child of the current node.\n",
    "\n",
    "* Recursive approach: This approach involves recursively traversing the tree in-order and keeping track of the number of nodes visited until you find the kth smallest element. You can use a helper function that takes a node and a value of k as input, and recursively calls itself on the left and right children of the node until it finds the kth smallest element.\n",
    "\n",
    "Both of these approaches have their own advantages and disadvantages, and the best approach to use may depend on the specific problem constraints and the interviewer's preferences."
   ]
  },
  {
   "cell_type": "code",
   "execution_count": 7,
   "metadata": {},
   "outputs": [],
   "source": [
    "def kth_smallest(self, k):\n",
    "        # create a stack to hold nodes\n",
    "        stack = []    \n",
    "        # start at the root of the tree      \n",
    "        temp = self.root    \n",
    "        \n",
    "        while stack or temp:\n",
    "            # traverse to the leftmost node\n",
    "            while temp: \n",
    "                # add the node to the stack                \n",
    "                stack.append(temp)      \n",
    "                temp = temp.left\n",
    "            \n",
    "            # pop the last node added to the stack\n",
    "            temp = stack.pop()           \n",
    "            k -= 1\n",
    "            # if kth smallest element is found, return the value\n",
    "            if k == 0:                  \n",
    "                return temp.value\n",
    "            \n",
    "            # move to the right child of the node\n",
    "            temp = temp.right           \n",
    "            \n",
    "        # if k is greater than the number of nodes in the tree, return None\n",
    "        return None                      \n"
   ]
  },
  {
   "cell_type": "code",
   "execution_count": 10,
   "metadata": {},
   "outputs": [],
   "source": [
    "def kth_smallest(self, k):\n",
    "    self.kth_smallest_count = 0\n",
    "    return self.kth_smallest_helper(self.root, k)\n",
    " \n",
    "    def kth_smallest_helper(self, node, k):\n",
    "        if node is None:\n",
    "            return None\n",
    " \n",
    "        left_result = self.kth_smallest_helper(node.left, k)\n",
    "        if left_result is not None:\n",
    "            return left_result\n",
    " \n",
    "        self.kth_smallest_count += 1\n",
    "        if self.kth_smallest_count == k:\n",
    "            return node.value\n",
    " \n",
    "        right_result = self.kth_smallest_helper(node.right, k)\n",
    "        if right_result is not None:\n",
    "            return right_result\n",
    "        return None"
   ]
  },
  {
   "cell_type": "code",
   "execution_count": null,
   "metadata": {},
   "outputs": [],
   "source": [
    "def kth_smallest(self, k):\n",
    "    track = []\n",
    "\n",
    "    def traverse(current):o\n",
    "        if current.left is not None:\n",
    "            traverse(current.left)\n",
    "        track.append(current.value)\n",
    "        if current.right is not None:\n",
    "            traverse(current.right)\n",
    "    traverse(self.root)\n",
    "\n",
    "    if k > len(track):\n",
    "        return None\n",
    "    return track[k-1]"
   ]
  },
  {
   "cell_type": "markdown",
   "metadata": {},
   "source": [
    "### List: Remove Element\n",
    "\n",
    "Given a list of integers nums and an integer val, write a function remove_element that removes all occurrences of val in the list in-place and returns the new length of the modified list.\n",
    "\n",
    "The function should not allocate extra space for another list; instead, it should modify the input list in-place with O(1) extra memory.\n",
    "\n",
    "Input:\n",
    "\n",
    "A list of integers nums .\n",
    "\n",
    "An integer val representing the value to be removed from the list.\n",
    "\n",
    "Output:\n",
    "\n",
    "An integer representing the new length of the modified list after removing all occurrences of val.\n",
    "\n",
    "Constraints:\n",
    "\n",
    "Do not use any built-in list methods, except for pop() to remove elements.\n",
    "It is okay to have extra space at the end of the modified list after removing elements."
   ]
  },
  {
   "cell_type": "code",
   "execution_count": 11,
   "metadata": {},
   "outputs": [],
   "source": [
    "def remove_element(nums, val):\n",
    "    i = 0\n",
    "    while i < len(nums):\n",
    "        if num[i] == val:\n",
    "            nums.pop(i)\n",
    "        else:\n",
    "            i += 1 \n",
    "    return len(nums)"
   ]
  },
  {
   "cell_type": "markdown",
   "metadata": {},
   "source": [
    "### List: Find Max Min\n",
    "\n",
    "Write a Python function that takes a list of integers as input and returns a tuple containing the maximum and minimum values in the list.\n",
    "\n",
    "The function should have the following signature:\n",
    "\n",
    "def find_max_min(myList):\n",
    "\n",
    "\n",
    "Where myList is the list of integers to search for the maximum and minimum values.\n",
    "\n",
    "The function should traverse the list and keep track of the current maximum and minimum values. It should then return these values as a tuple, with the maximum value as the first element and the minimum value as the second element.\n",
    "\n",
    "For example, if the input list is [5, 3, 8, 1, 6, 9], the function should return (9, 1) since 9 is the maximum value and 1 is the minimum value."
   ]
  },
  {
   "cell_type": "code",
   "execution_count": 12,
   "metadata": {},
   "outputs": [],
   "source": [
    "def find_max_min(myList):\n",
    "    maximum = minimum = myList[0]\n",
    "    for num in myList:\n",
    "        if num > maximum:\n",
    "            maximum = num\n",
    "        elif num < minimum:\n",
    "            minimum = num\n",
    "    return maximum, minimum"
   ]
  },
  {
   "cell_type": "markdown",
   "metadata": {},
   "source": [
    "###  List: Find Longest String\n",
    "\n",
    "Write a Python function called find_longest_string that takes a list of strings as an input and returns the longest string in the list. The function should iterate through each string in the list, check its length, and keep track of the longest string seen so far. Once it has looped through all the strings, the function should return the longest string found.\n",
    "\n",
    "Example:\n",
    "\n",
    "```\n",
    "string_list = ['apple', 'banana', 'kiwi', 'pear']\n",
    "longest = find_longest_string(string_list)\n",
    "print(longest)  # expected output: 'banana'\n",
    "```"
   ]
  },
  {
   "cell_type": "code",
   "execution_count": 16,
   "metadata": {},
   "outputs": [],
   "source": [
    "def find_longest_string(string_list):\n",
    "    longest_string = \"\"\n",
    "    for string in string_list:\n",
    "        if len(string) > len(longest_string):\n",
    "            longest_string = string\n",
    "    return longest_string"
   ]
  },
  {
   "cell_type": "markdown",
   "metadata": {},
   "source": [
    "### List: Remove Duplicates\n",
    "\n",
    "Given a sorted list of integers, rearrange the list in-place such that all unique elements appear at the beginning of the list, followed by the duplicate elements. Your function should return the new length of the list containing only unique elements. Note that you should not create a new list or use any additional data structures to solve this problem. The original list should be modified in-place.\n",
    "\n",
    "Constraints:\n",
    "\n",
    "1. The input list is sorted in non-decreasing order.\n",
    "2. The input list may contain duplicates.\n",
    "3. The function should have a time complexity of O(n), where n is the length of the input list.\n",
    "4. The function should have a space complexity of O(1), i.e., it should not use any additional data structures or create new lists.\n",
    "\n",
    "\n",
    "\n",
    "Example:\n",
    "\n",
    "Input: nums = [0, 0, 1, 1, 1, 2, 2, 3, 3, 4] Function call: new_length = remove_duplicates(nums) Output: new_length = 5 Modified list: nums = [0, 1, 2, 3, 4, 2, 2, 3, 3, 4] (first 5 elements are unique)\n",
    "\n",
    "Explanation: The function modifies the original list nums in-place, moving unique elements to the beginning of the list, followed by duplicate elements. The new length returned by the function is 5, indicating that there are 5 unique elements in the list. The first 5 elements of the modified list nums are the unique elements [0, 1, 2, 3, 4]."
   ]
  },
  {
   "cell_type": "code",
   "execution_count": 18,
   "metadata": {},
   "outputs": [
    {
     "name": "stdout",
     "output_type": "stream",
     "text": [
      "[0, 0, 1, 1, 1, 2, 2, 3, 3, 4]\n",
      "New length: 5\n",
      "Unique values in list: [0, 1, 2, 3, 4]\n",
      "[0, 1, 2, 3, 4, 2, 2, 3, 3, 4]\n"
     ]
    }
   ],
   "source": [
    "def remove_duplicates(nums):\n",
    "    # Return 0 if input list is empty\n",
    "    if not nums:\n",
    "        return 0\n",
    " \n",
    "    # Initialize write_pointer at index 1\n",
    "    write_pointer = 1\n",
    " \n",
    "    # Loop through list starting from index 1\n",
    "    for read_pointer in range(1, len(nums)):\n",
    "        # Check if current element is unique\n",
    "        if nums[read_pointer] != nums[read_pointer - 1]:\n",
    "            # Move unique element to write_pointer\n",
    "            nums[write_pointer] = nums[read_pointer]\n",
    "            # Increment write_pointer for next unique element\n",
    "            write_pointer += 1\n",
    " \n",
    "    # Return new length of list with unique elements\n",
    "    return write_pointer\n",
    "\n",
    "nums = [0, 0, 1, 1, 1, 2, 2, 3, 3, 4]\n",
    "print(nums)\n",
    "new_length = remove_duplicates(nums)\n",
    "print(\"New length:\", new_length)\n",
    "print(\"Unique values in list:\", nums[:new_length])\n",
    "print(nums)"
   ]
  },
  {
   "cell_type": "markdown",
   "metadata": {},
   "source": [
    "###  List: Max Profit\n",
    "\n",
    "You are given a list of integers representing stock prices for a certain company over a period of time, where each element in the list corresponds to the stock price for a specific day.\n",
    "\n",
    "You are allowed to buy one share of the stock on one day and sell it on a later day.\n",
    "\n",
    "Your task is to write a function called max_profit that takes the list of stock prices as input and returns the maximum profit you can make by buying and selling at the right time.\n",
    "\n",
    "Note that you must buy the stock before selling it, and you are allowed to make only one transaction (buy once and sell once).\n",
    "\n",
    "Constraints:\n",
    "\n",
    "\n",
    "\n",
    "Each element of the input list is a positive integer representing the stock price for a specific day.\n",
    "\n",
    "\n",
    "\n",
    "Function signature: def max_profit(prices):\n",
    "\n",
    "Example:\n",
    "\n",
    "Input: prices = [7, 1, 5, 3, 6, 4]\n",
    "Function call: profit = max_profit(prices)\n",
    "Output: profit = 5\n",
    "\n",
    "Explanation: The maximum profit can be achieved by buying the stock on day 2 (price 1) and selling it on day 5 (price 6), resulting in a profit of 6 - 1 = 5."
   ]
  },
  {
   "cell_type": "code",
   "execution_count": 19,
   "metadata": {},
   "outputs": [],
   "source": [
    "def max_profit(prices):\n",
    "    # Initialize min_price to positive infinity\n",
    "    min_price = float('inf')\n",
    "    # Initialize max_profit to 0\n",
    "    max_profit = 0\n",
    " \n",
    "    # Iterate through the list of stock prices\n",
    "    for price in prices:\n",
    "        # Update min_price with the lowest price so far\n",
    "        min_price = min(min_price, price)\n",
    "        # Calculate profit by selling at the current price\n",
    "        profit = price - min_price\n",
    "        # Update max_profit with the highest profit so far\n",
    "        max_profit = max(max_profit, profit)\n",
    " \n",
    "    # Return the maximum profit after iterating\n",
    "    return max_profit"
   ]
  },
  {
   "cell_type": "markdown",
   "metadata": {},
   "source": [
    "### List: Rotate\n",
    "\n",
    "You are given a list of n integers and a non-negative integer k.\n",
    "\n",
    "Your task is to write a function called rotate that takes the list of integers and an integer k as input and rotates the list to the right by k steps.\n",
    "\n",
    "The function should modify the input list in-place, and you should not return anything.\n",
    "\n",
    "Constraints:\n",
    "* Each element of the input list is an integer.\n",
    "* The integer k is non-negative.\n",
    "\n",
    "Function signature: def rotate(nums, k):\n",
    "\n",
    "Example:\n",
    "\n",
    "Input: nums = [1, 2, 3, 4, 5, 6, 7], k = 3\n",
    "Function call: rotate(nums, k)\n",
    "Output: nums = [5, 6, 7, 1, 2, 3, 4]\n",
    "\n",
    "\n",
    "Explanation: The list has been rotated to the right by 3 steps:\n",
    "\n",
    "[7, 1, 2, 3, 4, 5, 6]\n",
    "\n",
    "[6, 7, 1, 2, 3, 4, 5]\n",
    "\n",
    "[5, 6, 7, 1, 2, 3, 4]"
   ]
  },
  {
   "cell_type": "code",
   "execution_count": 33,
   "metadata": {},
   "outputs": [],
   "source": [
    "def rotate(nums, k):\n",
    "    # Calculate the effective number of steps to rotate\n",
    "    k = k % len(nums)\n",
    "    # Rearrange the elements in the rotated order\n",
    "    nums[:] = nums[-k:] + nums[:-k]"
   ]
  },
  {
   "cell_type": "markdown",
   "metadata": {},
   "source": [
    "### List: Max Sub Array\n",
    "\n",
    "Given an array of integers nums, write a function max_subarray(nums) that finds the contiguous subarray (containing at least one number) with the largest sum and returns its sum.\n",
    "\n",
    "Function Signature:\n",
    "\n",
    "def max_subarray(nums):\n",
    "\n",
    "\n",
    "Input:\n",
    "A list of integers nums.\n",
    "\n",
    "Output:\n",
    "An integer representing the sum of the contiguous subarray with the largest sum.\n",
    "\n",
    "\n",
    "Example:\n",
    "max_subarray([-2, 1, -3, 4, -1, 2, 1, -5, 4])\n",
    "Output: 6\n",
    "Explanation: The contiguous subarray [4, -1, 2, 1] has the largest sum, which is 6.\n",
    "\n",
    "\n",
    "**Kadane's algorithm** => Dynamic Programming"
   ]
  },
  {
   "cell_type": "code",
   "execution_count": 43,
   "metadata": {},
   "outputs": [
    {
     "name": "stdout",
     "output_type": "stream",
     "text": [
      "Example 1: Input: [-2, 1, -3, 4, -1, 2, 1, -5, 4] \n",
      "Result: 6\n",
      "Example 2: Input: [1, 2, 3, -4, 5, 6] \n",
      "Result: 13\n",
      "Example 3: Input: [-1, -2, -3, -4, -5] \n",
      "Result: -1\n"
     ]
    }
   ],
   "source": [
    "def max_subarray(nums):\n",
    "    # Return 0 if input list is empty\n",
    "    if not nums:\n",
    "        return 0\n",
    " \n",
    "    # Initialize max_sum and current_sum\n",
    "    max_sum = current_sum = nums[0]\n",
    " \n",
    "    # Iterate through the remaining elements\n",
    "    for num in nums[1:]:\n",
    "        # Update current_sum\n",
    "        current_sum = max(num, current_sum + num)\n",
    "        # Update max_sum if current_sum is larger\n",
    "        max_sum = max(max_sum, current_sum)\n",
    " \n",
    "    # Return the maximum subarray sum\n",
    "    return max_sum\n",
    "        \n",
    "\n",
    "# Example 1: Simple case with positive and negative numbers\n",
    "input_case_1 = [-2, 1, -3, 4, -1, 2, 1, -5, 4]\n",
    "result_1 = max_subarray(input_case_1)\n",
    "print(\"Example 1: Input:\", input_case_1, \"\\nResult:\", result_1)  \n",
    "\n",
    "# Example 2: Case with a negative number in the middle\n",
    "input_case_2 = [1, 2, 3, -4, 5, 6]\n",
    "result_2 = max_subarray(input_case_2)\n",
    "print(\"Example 2: Input:\", input_case_2, \"\\nResult:\", result_2) \n",
    "\n",
    "# Example 3: Case with all negative numbers\n",
    "input_case_3 = [-1, -2, -3, -4, -5]\n",
    "result_3 = max_subarray(input_case_3)\n",
    "print(\"Example 3: Input:\", input_case_3, \"\\nResult:\", result_3) \n"
   ]
  },
  {
   "cell_type": "markdown",
   "metadata": {},
   "source": [
    "## Dynamic Programming\n",
    "\n",
    "**Template**\n",
    "\n",
    "```python\n",
    "def function_name(param1, param2, param3, ..., cache):\n",
    "    if cache contains the result already:      <---- (A)\n",
    "        return it!\n",
    "\n",
    "     do some stuff to compute result (do not use cache) <---- (B)\n",
    "\n",
    "     update the cache for next time             <---- (C)\n",
    "\n",
    "     return result                              <---- (D)\n",
    "\n",
    "# Critically:  You only consult the cache in (A) and you only update it in (C).\n",
    "#              The \"cache\" variable should appear nowhere in (B).  If you need\n",
    "#              the solution to some subproblem in your (B), just recursively call yourself.\n",
    "#              If the solution's already in the cache, (A) on that recursive call\n",
    "#              will get it for you.  If it isn't in the cache, the recursive call\n",
    "#              will compute it for you in its (B).\n",
    "```"
   ]
  },
  {
   "cell_type": "markdown",
   "metadata": {},
   "source": []
  },
  {
   "cell_type": "code",
   "execution_count": 83,
   "metadata": {},
   "outputs": [],
   "source": [
    "from typing import List\n",
    "\n",
    "class Solution:\n",
    "    def merge(self, nums1: List[int], m: int, nums2: List[int], n: int) -> None:\n",
    "        last = m + n - 1\n",
    "        \n",
    "        # merge in reverse order\n",
    "        while m > 0 and n > 0:\n",
    "            if nums1[m-1] < nums2[n-1]:\n",
    "                nums1[last] = nums2[n-1]\n",
    "                n -= 1\n",
    "            else:\n",
    "                nums1[last] = nums1[m-1]\n",
    "                m -= 1\n",
    "            last -= 1\n",
    "        \n",
    "        # fill nums1 with leftover nums2 element\n",
    "        while n > 0:\n",
    "            nums1[last] = nums2[n]\n",
    "            n, last = n - 1, last - 1\n",
    "        \n",
    "nums1 = [1,2,3,0,0,0] \n",
    "m = 3\n",
    "nums2 = [2,5,6]\n",
    "n = 3\n",
    "s = Solution()\n",
    "s.merge(nums1, m, nums2, n)"
   ]
  },
  {
   "cell_type": "code",
   "execution_count": null,
   "metadata": {},
   "outputs": [],
   "source": []
  }
 ],
 "metadata": {
  "kernelspec": {
   "display_name": "Python 3 (ipykernel)",
   "language": "python",
   "name": "python3"
  },
  "language_info": {
   "codemirror_mode": {
    "name": "ipython",
    "version": 3
   },
   "file_extension": ".py",
   "mimetype": "text/x-python",
   "name": "python",
   "nbconvert_exporter": "python",
   "pygments_lexer": "ipython3",
   "version": "3.8.5"
  },
  "toc": {
   "base_numbering": 1,
   "nav_menu": {},
   "number_sections": true,
   "sideBar": true,
   "skip_h1_title": false,
   "title_cell": "Table of Contents",
   "title_sidebar": "Contents",
   "toc_cell": false,
   "toc_position": {},
   "toc_section_display": true,
   "toc_window_display": true
  },
  "vscode": {
   "interpreter": {
    "hash": "2858f3b91b236535de47d9b797352d534ff0535e59330f561b144d0c226b84a0"
   }
  }
 },
 "nbformat": 4,
 "nbformat_minor": 2
}
