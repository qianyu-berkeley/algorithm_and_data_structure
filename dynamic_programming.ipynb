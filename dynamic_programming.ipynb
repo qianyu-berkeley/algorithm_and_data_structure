{
 "cells": [
  {
   "cell_type": "markdown",
   "metadata": {},
   "source": [
    "# Dynamic Programming\n",
    "\n",
    "## Purpose\n",
    "\n",
    "The simplest way to think about dynamic programming, \"DP\", is nothing more than as an approach to optimize an algorithm:\n",
    "\n",
    "1.  Find an algorithm that \"brute forces\" a problem\n",
    "2.  Notice that it fits into the the class of algorithms DP can optimize\n",
    "3.  Implement algorithm using DP\n",
    "\n",
    "Dynamic programming does **not** have anything to do with on-the-fly code generation, online reinforcement learning, editing/optimizing compiled code while it's running... or anything else fancy.  So what does it do?  Read on!\n",
    "\n",
    "## Approach\n",
    "\n",
    "So how does DP work?\n",
    "\n",
    "It boils down to a simple idea:  _don't let your code do the same work twice_.  In practice, this means that you should cache intermediate results (say, in a table).  Each time you need to evaluate a function with the same input after the first, you can look up the result in the cache rather than recomputing it.\n",
    "\n",
    "You will sometimes hear DP is used for problems whose solutions are combinations of the solutions to \"optimal subproblems\".  Unpacking this a little bit:  if each solution is just a combination of smaller versions of the same problem, and you cache the results of the smaller problems as you go, to the extent that you need those solutions in more than one place, you'll get a speed up.  For many problems, an exponential time naive implementation can be made to run in polynomial time.\n",
    "\n",
    "**Don't let this sound complicated to you.**  All we're doing is adding a cache to avoid recomputing an \"expensive\" function.  Any time you see a problem that sounds like, \"Try every possible combination of X and pick the best\", you should think \"I wonder if there are any partial results here we can cache and reuse\".\n",
    "\n",
    "## Why is this important for natural language processing?\n",
    "\n",
    "The next part of the course contains a wide variety of algorithms that run passibly fast only when we apply a judicious amount of dynamic programing. Notably, both sequence tagging tasks (like part-of-speech tagging and entity recognition) and structured-prediction tasks like parsing will make heavy use of DP!"
   ]
  },
  {
   "cell_type": "markdown",
   "metadata": {},
   "source": [
    "## Example: Climbing the stairs\n",
    "\n",
    "Let's say you want to compute the total number of ways you can run up a flight of stairs.  At each step, $k$, you can either:\n",
    "\n",
    "- Take a regular step up to $k + 1$\n",
    "- Take a big step up to $k + 2$.\n",
    "\n",
    "Starting on stair $0$ (the bottom floor), how many unique ways are there to get up a staircase with $n$ stairs?\n",
    "\n",
    "If you've not encountered this kind of problem before, **spend a minute pondering** how you might compute this.  It's common to feel \"lost\" in the combinatorial explosion of options.\n",
    "\n",
    "### Hint\n",
    "\n",
    "Could you figure out the number of ways up a staircase of height $n$ if you were told how many ways you might get up staircases of height $n - 1$ and $n - 2$?  That is, if you knew the solution to a _subproblem_, could you use that to compute the solution to your real problem?\n",
    "\n",
    "### Further Hint\n",
    "\n",
    "Say you can get to the second-to-the-top stair in 8 ways (and then take a big step) and the next-to-the-top stair in 13 ways (and then take a small step).  How many ways to the top?  8 + 13 = 21.  (Note that you don't have to count \"get to second-to-the-top and take two regular steps\" separately because the \"13\" ways to get to the next-to-the-top stair already includes them.)\n",
    "\n",
    "### Solution\n",
    "\n",
    "In general, if there are $ways(n - 1)$ to get to the $n - 1$ stair, you can use any of those methods to get there and then take a regular step to get to stair $n$.  Similarly, if you have $ways(n - 2)$ to get to the $n - 2$ step and then take a big step to stair $n$.  There is no other way to get to stair $n$ except by one of those two sets of options.  There is no overlap between those sets of sequences as sequences in the first set always end in a \"regular\" step and those sequences in the second set always end in a \"big\" step.\n",
    "\n",
    "In math, $ways(n) = ways(n-1) + ways(n-2)$.\n",
    "\n",
    "Also notice (imagine, or draw a picture), $ways(1) = 1$ and $ways(2) = 2$.\n",
    "\n",
    "*Aside: you may recognize this as the famous [Fibbonaci series](https://en.wikipedia.org/wiki/Fibonacci_number).*\n",
    "\n",
    "The next cell shows one implementation."
   ]
  },
  {
   "cell_type": "code",
   "execution_count": 1,
   "metadata": {},
   "outputs": [
    {
     "name": "stdout",
     "output_type": "stream",
     "text": [
      "CPU times: user 4 µs, sys: 1 µs, total: 5 µs\n",
      "Wall time: 8.11 µs\n"
     ]
    },
    {
     "data": {
      "text/plain": [
       "8"
      ]
     },
     "execution_count": 1,
     "metadata": {},
     "output_type": "execute_result"
    }
   ],
   "source": [
    "%time\n",
    "def naive_ways(n):\n",
    "    \"\"\"Return the ways up a staircase of length n. Uses a naive algorithm.\"\"\"\n",
    "    if n == 1:\n",
    "        return 1\n",
    "    if n == 2:\n",
    "        return 2\n",
    "    \n",
    "    return naive_ways(n - 1) + naive_ways(n - 2)\n",
    "\n",
    "naive_ways(5)"
   ]
  },
  {
   "cell_type": "markdown",
   "metadata": {},
   "source": [
    "**Great!**\n",
    "\n",
    "Unfortunately, this implementation gets very slow for large $n$. The cell below will print some timing information."
   ]
  },
  {
   "cell_type": "code",
   "execution_count": 5,
   "metadata": {},
   "outputs": [
    {
     "name": "stdout",
     "output_type": "stream",
     "text": [
      "n=20: \n",
      "2.27 ms ± 293 µs per loop (mean ± std. dev. of 7 runs, 10 loops each)\n",
      "n=21: \n",
      "2.86 ms ± 270 µs per loop (mean ± std. dev. of 7 runs, 10 loops each)\n",
      "n=22: \n",
      "4.1 ms ± 397 µs per loop (mean ± std. dev. of 7 runs, 10 loops each)\n",
      "n=23: \n",
      "6 ms ± 280 µs per loop (mean ± std. dev. of 7 runs, 10 loops each)\n",
      "n=24: \n",
      "9.64 ms ± 302 µs per loop (mean ± std. dev. of 7 runs, 10 loops each)\n",
      "n=25: \n",
      "15.8 ms ± 830 µs per loop (mean ± std. dev. of 7 runs, 10 loops each)\n"
     ]
    }
   ],
   "source": [
    "# TIMING INFO FOR PART A\n",
    "for n in range(20, 25+1):\n",
    "    print (\"n=%d: \" % n),\n",
    "    %timeit -n10 naive_ways(n)"
   ]
  },
  {
   "cell_type": "code",
   "execution_count": 6,
   "metadata": {},
   "outputs": [
    {
     "name": "stdout",
     "output_type": "stream",
     "text": [
      "2 s ± 65.3 ms per loop (mean ± std. dev. of 7 runs, 1 loop each)\n"
     ]
    }
   ],
   "source": [
    "# Try with slightly-larger n.\n",
    "%timeit -n1 naive_ways(35)"
   ]
  },
  {
   "cell_type": "markdown",
   "metadata": {},
   "source": [
    "If we try to handle a staircase with 100 steps, it'll take a _very_ long time with our naive implementation."
   ]
  },
  {
   "cell_type": "markdown",
   "metadata": {},
   "source": [
    "## Part (a): Short Answer Questions\n",
    "\n",
    "Give *brief* answers to the following in the cell below, then for 4., implement the DP version in the cell below.\n",
    "\n",
    "1. Based on the timing numbers from the `# TIMING INFO FOR PART A` cell above, approximately how much slower is $ways(n)$ than $ways(n-1)$? (i.e. what is $\\frac{time(ways(n))}{time(ways(n-1))}$, roughly?)\n",
    "\n",
    "2.  Why is this so slow?  What calculations do we compute repeatedly?  Hint: consider the following diagram.\n",
    "![DP diagram](dp.png)\n",
    "\n",
    "3. **Food for thought (not graded):** Assuming that $time(ways(n)) = time(ways(n-1)) + time(ways(n-2))$, what is $\\lim_{n\\to\\infty} \\frac{time(ways(n))}{time(ways(n-1))}$?\n",
    "\n",
    "4. To remove the duplication you found in 2., we apply DP.  Remember DP just means that we cache the results of the subproblems so we don't have to keep recomputing them.  Or, more directly, it prevents the duplication you noted in your answer above. Finish the implementation of the **`table_ways()`** function below."
   ]
  },
  {
   "cell_type": "markdown",
   "metadata": {},
   "source": [
    "## Part (a) Answers\n",
    "1.  _From n-1 to n, it slow down roughly 61%_\n",
    "2.  _It is slow because ways(n) needs to calculate all the possible steps of ways(n-2)_\n",
    "3.  _$\\lim_{n\\to\\infty} \\frac{time(ways(n))}{time(ways(n-1))} = 2$_\n",
    "4.  _(Write code in cell below.)_"
   ]
  },
  {
   "cell_type": "markdown",
   "metadata": {},
   "source": [
    "### 4. Apply Dynamic Programming"
   ]
  },
  {
   "cell_type": "code",
   "execution_count": 18,
   "metadata": {},
   "outputs": [],
   "source": [
    "def fast_way(n, hashtable=None):\n",
    "    if hashtable is None:\n",
    "        hashtable = {1:1, 2:2}\n",
    "    \n",
    "    if n in hashtable:\n",
    "        return hashtable[n]\n",
    "    \n",
    "    result = fast_way(n-1, hashtable) + fast_way(n-2, hashtable)\n",
    "    \n",
    "    hashtable[n] = result\n",
    "    return result"
   ]
  },
  {
   "cell_type": "code",
   "execution_count": 19,
   "metadata": {},
   "outputs": [
    {
     "name": "stdout",
     "output_type": "stream",
     "text": [
      "14.4 µs ± 1.66 µs per loop (mean ± std. dev. of 7 runs, 1 loop each)\n"
     ]
    }
   ],
   "source": [
    "%timeit -n1 fast_way(35)"
   ]
  },
  {
   "cell_type": "code",
   "execution_count": 21,
   "metadata": {
    "scrolled": true
   },
   "outputs": [
    {
     "name": "stdout",
     "output_type": "stream",
     "text": [
      "CPU times: user 89 µs, sys: 20 µs, total: 109 µs\n",
      "Wall time: 114 µs\n"
     ]
    },
    {
     "data": {
      "text/plain": [
       "573147844013817084101"
      ]
     },
     "execution_count": 21,
     "metadata": {},
     "output_type": "execute_result"
    }
   ],
   "source": [
    "### IMPORTANT ###\n",
    "# If you do not follow what we'll call \"THE TEMPLATE\", you will not get full points!\n",
    "#\n",
    "# THE TEMPLATE:\n",
    "#\n",
    "# def function_name(param1, param2, param3, ..., cache):\n",
    "# if cache contains the result already:      <---- (A)\n",
    "#    return it!\n",
    "#\n",
    "# do some stuff to compute result (do not use cache) <---- (B)\n",
    "#\n",
    "# update the cache for next time             <---- (C)\n",
    "#\n",
    "# return result                              <---- (D)\n",
    "#\n",
    "# Critically:  You only consult the cache in (A) and you only update it in (C).\n",
    "#              The \"cache\" variable should appear nowhere in (B).  If you need\n",
    "#              the solution to some subproblem in your (B), just recursively call yourself.\n",
    "#              If the solution's already in the cache, (A) on that recursive call\n",
    "#              will get it for you.  If it isn't in the cache, the recursive call\n",
    "#              will compute it for you in its (B).\n",
    "\n",
    "def table_ways(n, cache=None):\n",
    "    \"\"\"Return the ways up a staircase of length n. Uses a DP algorithm.\"\"\"\n",
    "    #### YOUR CODE HERE ####\n",
    "    # THE TEMPLATE (A)\n",
    "    # Hold a mapping from the parameter \"n\" to the answer table_ways(n).\n",
    "    # With \"simple\" integer keys, we could just use an array here, but\n",
    "    # we'll use a dict to reinforce that the DP cache can be keyed by\n",
    "    # any type.\n",
    "    if cache is None:\n",
    "        cache = {1:1, 2:2}\n",
    "        \n",
    "    #  Check the cache to see if already have an answer to table_ways(n).\n",
    "    #  If it's already there, return it.\n",
    "    if n in cache:\n",
    "        return cache[n]\n",
    "    \n",
    "    #### END(YOUR CODE) ####\n",
    "\n",
    "    # THE TEMPLATE (B): Note that we don't consult the cache[n-2] directly,\n",
    "    # we let table_ways take care of that.  This cleanly separates the caching\n",
    "    # logic from the part of the solution related to the problem you're solving.\n",
    "    result = table_ways(n - 1, cache) + table_ways(n - 2, cache)\n",
    "    \n",
    "    #### YOUR CODE HERE ####\n",
    "    # THE TEMPLATE (C)\n",
    "    #  Store the result back into the cache.\n",
    "    cache[n] = result\n",
    "    #### YOUR CODE HERE ####\n",
    "    \n",
    "    # THE TEMPLATE(D)\n",
    "    return result\n",
    "\n",
    "assert table_ways(1) == 1\n",
    "assert table_ways(2) == 2\n",
    "assert table_ways(100) == 573147844013817084101\n",
    "%time table_ways(100)"
   ]
  },
  {
   "cell_type": "markdown",
   "metadata": {},
   "source": [
    "If implemented correctly, you should get the answer almost instantly for $n=100$ - certainly much faster than the naive version on a much smaller problem!\n",
    "\n",
    "That is the power of DP."
   ]
  },
  {
   "cell_type": "markdown",
   "metadata": {},
   "source": [
    "## Part (b): Explicit order of computation\n",
    "\n",
    "At the end of the execution above, we have a complete cache for all inputs from $1$ to $n$.  By carefully planning the order in which we try to evaluate f(1), f(2), ..., f(n), it's possible to write the above algorithm keeping track of only two cache values at a time.\n",
    "\n",
    "First answer the following questions, then use what you gleaned to write the code.\n",
    "\n",
    "### Short Answer Questions\n",
    "1. What are the values of A, B, and C in this table?\n",
    "<html><table>\n",
    "<tr><td>n</td><td>ways(n)</td></tr>\n",
    "<tr><td>1</td><td>1</td></tr>\n",
    "<tr><td>2</td><td>2</td></tr>\n",
    "<tr><td>3</td><td>3</td></tr>\n",
    "<tr><td>4</td><td>5</td></tr>\n",
    "<tr><td>5</td><td>8</td></tr>\n",
    "<tr><td>6</td><td>13</td></tr>\n",
    "<tr><td>7</td><td>$A$</td></tr>\n",
    "<tr><td>8</td><td>$B$</td></tr>\n",
    "<tr><td>9</td><td>$C$</td></tr>\n",
    "</table>\n",
    "</html>\n",
    "<p>\n",
    "2. To compute these values, did you look at $n=4$ or earlier?\n",
    "<p>\n",
    "3. What is the minimum number of values you need to keep as you fill the table from top to bottom, while maintaining the DP property of not recomputing any values?  \n",
    "<p>\n",
    "\n",
    "4. Write an implementation that implements a DP solution while storing the minimum amount of data. Implement the **`minimum_ram_ways()`** function in the cell below."
   ]
  },
  {
   "cell_type": "markdown",
   "metadata": {},
   "source": [
    "### Part (b) Answers\n",
    "\n",
    "- 1A = _21_\n",
    "- 1B = _34_\n",
    "- 1C = _55_\n",
    "- 2 _No, we only need to look at the last 2 results_\n",
    "- 3 _We need to 2 numbers_\n",
    "- 4 _(Write code in cell below.)_"
   ]
  },
  {
   "cell_type": "code",
   "execution_count": 24,
   "metadata": {},
   "outputs": [
    {
     "name": "stdout",
     "output_type": "stream",
     "text": [
      "CPU times: user 12 µs, sys: 1e+03 ns, total: 13 µs\n",
      "Wall time: 15.7 µs\n"
     ]
    },
    {
     "data": {
      "text/plain": [
       "573147844013817084101"
      ]
     },
     "execution_count": 24,
     "metadata": {},
     "output_type": "execute_result"
    }
   ],
   "source": [
    "# You should NOT use THE TEMPLATE here.  This exercise exists\n",
    "# to show you that you can sometimes get away with elegant solutions\n",
    "# that don't use THE TEMPLATE if you think deeply about it for a few minutes.\n",
    "# Starting with THE TEMPLATE is often a reasonable first thing to do and then\n",
    "# simplify from there if you want.\n",
    "\n",
    "def minimum_ram_ways(n):\n",
    "    \"\"\"Return the ways up a staircase of length n. Uses a low-RAM DP algorithm.\"\"\"\n",
    "    pass\n",
    "    # YOUR CODE HERE\n",
    "    # Hint: start from a staircase of 1 step and build it up into solutions\n",
    "    #       to more and more steps.\n",
    "    #       My solution is 7 lines (a few assignments and a for loop). Don't\n",
    "    #       make this too complicated!\n",
    "    \n",
    "    if n == 1:\n",
    "        return 1\n",
    "    elif n == 2:\n",
    "        return 2\n",
    "    else:    \n",
    "        stair_n_1 = 2\n",
    "        stair_n_2 = 1\n",
    "    \n",
    "        for _ in range(n-2):\n",
    "            stair_n = stair_n_1 + stair_n_2\n",
    "            stair_n_2 = stair_n_1\n",
    "            stair_n_1 = stair_n\n",
    "    \n",
    "        return stair_n\n",
    "    \n",
    "\n",
    "    # END YOUR CODE\n",
    "\n",
    "assert minimum_ram_ways(1) == 1\n",
    "assert minimum_ram_ways(2) == 2\n",
    "assert minimum_ram_ways(100) == 573147844013817084101\n",
    "\n",
    "%time minimum_ram_ways(100)"
   ]
  },
  {
   "cell_type": "markdown",
   "metadata": {},
   "source": [
    "## Part (c): Pipe cutting\n",
    "\n",
    "Another problem suceptible to optimization with DP is pipe cutting.  Here, we are given a metal pipe of length $n$ and a price list, the price at which you can sell various parts of the pipe.  For the purposes of this exercise, let's write the code as though different parts of the pipe could yield different amounts of money, even if they're the same length.  Your objective is to cut the pipe into pieces such that they fetch the most revenue.\n",
    "\n",
    "Implement the code to determine the maximum revenue you can achieve from such a pipe.\n",
    "\n",
    "### Part (c) tasks\n",
    "- Implement the **`best_cuts()`** function in the cell below.\n",
    "\n",
    "### Hints\n",
    "\n",
    "- Iterate over the possible locations of the first cut, then recursively call yourself to optimally split the bar to the right of the cut.\n",
    "\n",
    "- You only need to recursively call yourself to the right of the cut (just call the revenue function for the left hand side).  Calling yourself recursively on the left would just duplicate the work you already did when you tried a \"first cut\" further to the left of your current position.\n",
    "\n",
    "- The cache should be a map from a tuple `(left, right)` to a float denoting the best revenue you can get for that section of pipe (including any cuts you might choose to make within that span).\n",
    "\n",
    "- Don't worry about carefully planning the execution order like you did in the last section.  Just get it to work (cache everything).\n",
    "\n",
    "- Python's **`xrange`** function can be used with both a start and an end. For example:\n",
    "```python\n",
    "for i in xrange(3, 8):\n",
    "    do_stuff(i)  # i = 3, 4, 5, 6, 7\n",
    "```\n",
    "You may find this useful for iterating over the location of the cut.\n",
    "\n",
    "### Why do we care?\n",
    "\n",
    "It turns out the pipe cutting problem is (very) closely related to DP algorithms for segmentation in NLP, as we'll see in more detail below."
   ]
  },
  {
   "cell_type": "code",
   "execution_count": 27,
   "metadata": {},
   "outputs": [
    {
     "data": {
      "text/plain": [
       "89.7"
      ]
     },
     "execution_count": 27,
     "metadata": {},
     "output_type": "execute_result"
    }
   ],
   "source": [
    "price_list = [0.0, 3.4, 5.7, 17.6, 2.2, 86.3]\n",
    "def do_not_call_this_function_directly_use_score_instead_pipe_revenue_function(left, right):\n",
    "    \"\"\"$ revenue for the part of the bar in interval [left, right).\"\"\"\n",
    "    n = right - left\n",
    "    if n < 0 or n >= len(price_list):\n",
    "        return 0.0\n",
    "    return price_list[n]\n",
    "\n",
    "# DP cache for the function below.\n",
    "def best_cuts(left, right, score, cache=None):\n",
    "    \"\"\"Determine the optimal revenue possible by (optionally) cutting a bar\n",
    "       of length right - left.\n",
    "    \n",
    "    best_cuts(0, 9) is 107.30 with bars of length 1, 3, and 5.\n",
    "    The return value will be: 107.3\n",
    "\n",
    "    Args:\n",
    "      left: the left index of the pipe piece to consider cutting\n",
    "      right: the right index of the pipe piece to consider cutting\n",
    "      score: a function that accepts \"left\" and \"right and gives you the score\n",
    "             (revenue) received for the segment of pipe extending the interval\n",
    "             from [left, right)\n",
    "      cache: a dict mapping tuples (left, right) to the best_score for that interval\n",
    "    \n",
    "    Returns:\n",
    "      The best revenue for the span of pipe [left, right)\n",
    "      \n",
    "    HINT: You *must* call the \"score\" function passed in, not the pipe_revenue_function\n",
    "          directly.  In a cell further down, we're going to pass in a different\n",
    "          function instead!\n",
    "\n",
    "    HINT: You need to get a reasonable default value to return.  For selling pipes, 0.0\n",
    "          seems reasonable, but we're going to call it down below with a price list with\n",
    "          -'ve values (logs of probabilities), so 0.0 will not work.  Instead, use any\n",
    "          actual result from the score function (e.g. score(left, right)).\n",
    "    \"\"\"\n",
    "    if cache is None:\n",
    "        cache = {}\n",
    "        \n",
    "    #### YOUR CODE HERE ####\n",
    "    ## Using the template\n",
    "    \n",
    "    ## Step 1: Check whether the answer is already in the memory\n",
    "    if (left, right) in cache:\n",
    "        return cache[(left, right)]\n",
    "    \n",
    "    ## Step 2: loop through the cuts and calculate the optimal revenue\n",
    "    \n",
    "    ## Default best rev\n",
    "    best_rev = score(left, right)\n",
    "    \n",
    "    for cut in range(left+1, right):\n",
    "        current_rev = score(left, cut) + best_cuts(cut, right, score, cache)\n",
    "        if current_rev > best_rev:\n",
    "            best_rev = current_rev\n",
    "    \n",
    "    ## Step 3: Cache the optimal revenue\n",
    "    cache[(left, right)] = best_rev\n",
    "    \n",
    "    ## Step 4: Return the optimal revenue\n",
    "    return best_rev\n",
    "\n",
    "    ##### END(YOUR CODE) ####\n",
    "    \n",
    "assert 3.4 == best_cuts(0, 1, do_not_call_this_function_directly_use_score_instead_pipe_revenue_function)\n",
    "assert 107.3 == round(best_cuts(0, 9, do_not_call_this_function_directly_use_score_instead_pipe_revenue_function), 1)\n",
    "\n",
    "round(best_cuts(0, 6, do_not_call_this_function_directly_use_score_instead_pipe_revenue_function), 2)"
   ]
  },
  {
   "cell_type": "markdown",
   "metadata": {},
   "source": [
    "## Part (d): Bookkeeping\n",
    "\n",
    "Great!  We know we can make over a hundred dollars cutting up our length 9 bar!\n",
    "\n",
    "Unfortunately, while we computed the revenue available by cutting the bar, we didn't actually track the cuts we need to make in order to earn it!\n",
    "\n",
    "Write the code (in the cell below) to keep track of the steps you took in order to achieve the optimal revenue.  **Start by copying and pasting your solution from above and work from there.**\n",
    "\n",
    "**Hint:** the cache currently maps from bar span, `(left, right)`, to optimal revenue that can be made from that section.  In this part, keep the key the same but instead map it to a tuple of `(optimal revenue, [list, of, cut, positions])`.\n",
    "\n",
    "### Part (d) tasks:\n",
    "- Implement the **`best_cuts_with_trace()`** function below."
   ]
  },
  {
   "cell_type": "code",
   "execution_count": 29,
   "metadata": {},
   "outputs": [
    {
     "name": "stdout",
     "output_type": "stream",
     "text": [
      "Cuts: [1, 4] Bar sizes: [1, 3, 5]\n"
     ]
    },
    {
     "data": {
      "text/plain": [
       "(107.30000000000001, [1, 4])"
      ]
     },
     "execution_count": 29,
     "metadata": {},
     "output_type": "execute_result"
    }
   ],
   "source": [
    "price_list = [0.0, 3.4, 5.7, 17.6, 2.2, 86.3]\n",
    "def pipe_revenue_function(left, right):\n",
    "    \"\"\"$ revenue for the part of the bar in interval [left, right).\"\"\"\n",
    "    n = right - left\n",
    "    if n < 0 or n >= len(price_list):\n",
    "        return 0.0\n",
    "    return price_list[n]\n",
    "\n",
    "# DP cache for the function below.\n",
    "def best_cuts_with_trace(left, right, score, cache=None):\n",
    "    \"\"\"Determine the optimal revenue possible by (optionally) cutting a bar\n",
    "       of length right - left.\n",
    "    \n",
    "    best_cuts(0, 9) is 107.30 with bars of length 1, 3, and 5 (cuts at positions 1 and 4).\n",
    "    The return value will be: (107.3, [1, 4])\n",
    "\n",
    "    Args:\n",
    "      left: the left index of the pipe piece to consider cutting\n",
    "      right: the right index of the pipe piece to consider cutting\n",
    "      score: a function that accepts \"left\" and \"right and gives you the score\n",
    "             (revenue) received for the segment of pipe extending the interval\n",
    "             from [left, right)\n",
    "      cache: a dict mapping tuples (left, right) to a tuple (best_revenue, [list, of, cuts])\n",
    "    \n",
    "    Returns:\n",
    "      Tuple (best_revenue, [list, of, cuts])\n",
    "    \"\"\"\n",
    "    if cache is None:\n",
    "        cache = {}\n",
    "        \n",
    "    #### YOUR CODE HERE ####\n",
    "    ## Using the template\n",
    "    \n",
    "    ## Step 1: Check whether the answer is already in the memory\n",
    "    if (left, right) in cache:\n",
    "        return cache[(left, right)]\n",
    "    \n",
    "    ## Step 2: loop through the cuts and calculate the optimal revenue\n",
    "    \n",
    "    ## Default best rev\n",
    "    best_rev = score(left, right)\n",
    "    ## Default best cuts is no cut\n",
    "    best_cuts = []\n",
    "    \n",
    "    for cut in range(left+1, right):\n",
    "        first_cut = [cut]\n",
    "        rest_cuts = best_cuts_with_trace(cut, right, score, cache)[1]\n",
    "        current_rev = score(left, cut) + best_cuts_with_trace(cut, right, score, cache)[0]\n",
    "        if current_rev > best_rev:\n",
    "            best_rev = current_rev\n",
    "            best_cuts = first_cut + rest_cuts\n",
    "\n",
    "    ## Step 3: Cache the optimal revenue\n",
    "    cache[(left, right)] = (best_rev, best_cuts)\n",
    "    \n",
    "    ## Step 4: Return the optimal revenue\n",
    "    return (best_rev, best_cuts)\n",
    "\n",
    "\n",
    "    ##### END(YOUR CODE) ####\n",
    "    \n",
    "assert round(best_cuts_with_trace(0, 9, pipe_revenue_function)[0], 1) == 107.3\n",
    "cuts = sorted(best_cuts_with_trace(0, 9, pipe_revenue_function)[1])\n",
    "cut_sizes = sorted([x[1] - x[0] for x in zip([0] + cuts, cuts + [9])])\n",
    "print('Cuts:', cuts, 'Bar sizes:', cut_sizes)\n",
    "assert cut_sizes == [1, 3, 5]\n",
    "\n",
    "best_cuts_with_trace(0, 9, pipe_revenue_function)"
   ]
  },
  {
   "cell_type": "markdown",
   "metadata": {},
   "source": [
    "We'll see bookkeeping like this throughout the rest of the course.  For example, we'll want to know the optimal way to tag words in a sentence with their parts of speech.  The optimization will be over some likelihood of a particular assignment (rather than revenue).  This optimization is only useful to us however if we have a way to know what sequence of part of speech tags gave us that score, so we'll have to do this same kind of bookkeeping."
   ]
  },
  {
   "cell_type": "markdown",
   "metadata": {},
   "source": [
    "## Pipe cutting is segmentation\n",
    "An astute reader may have realized that we've actually seen this optimal splitting algorithm before.  Instead of bars, we split up a long run of text into words in [week 3](../../materials/week3/lm1.ipynb) (search for \"segment\").  In that case, [\"score\"](../../materials/week3/segment.py#L24) was the logarithm of the unigram probability of the word (we took the logarithm so that adding up the \"score\" is equivalent to multiplying the probabilities).\n",
    "\n",
    "The next cell implements a very light wrapper around your best_cut function (it just takes the cut indexes your function returns and turns them into text to pretty-print).  It also implements a simple unigram language model (much simpler than what you implemented in A2, let alone A3!).\n",
    "\n",
    "Experiment with some sentences.  See if you can find at least one that breaks it (this shouldn't be hard)."
   ]
  },
  {
   "cell_type": "markdown",
   "metadata": {},
   "source": [
    "**Hints**:\n",
    "\n",
    "If the results below aren't very good, go back and do a careful check on the initialization you did up above.  If you initialize your \"best_cuts\" to an empty list (no cuts), you must be careful to initialize your best_score to the corresponding value (_not a hard-coded 0.0_ - or, for that matter, any other hard coded value!).  Remember that segmentation is using the log(P(unigram)) as the scoring function and is therefore <= 0!  0.0 will look very good in comparison!  Re-read the hint on best_cuts (not best_cuts_with_trace) on initialization.\n",
    "\n",
    "## Question\n",
    "1.  What is the right value to initialize your score to if you've initialized your cuts list to []?"
   ]
  },
  {
   "cell_type": "markdown",
   "metadata": {},
   "source": [
    "## Answer\n",
    "1.  _No cuts means my score is the full length of the bar which is score(left, right)_"
   ]
  },
  {
   "cell_type": "code",
   "execution_count": 32,
   "metadata": {},
   "outputs": [],
   "source": [
    "import numpy as np\n",
    "\n",
    "##\n",
    "# Compute unigram counts from a simple corpus.\n",
    "unigram_counts = {}\n",
    "total_counts = 0\n",
    "for line in open('english_uni_simplified_sorted_top').readlines():\n",
    "    word_and_count = line.split()\n",
    "    word = word_and_count[0].strip('\"')\n",
    "    count = int(word_and_count[1])\n",
    "    unigram_counts[word] = count\n",
    "    total_counts += count\n",
    "\n",
    "def unigram_scoring_function(text, left, right):\n",
    "    word = text[left:right]\n",
    "    if word in unigram_counts:\n",
    "        # Log probabilities, so we can add scores instead of multiplying\n",
    "        return np.log(unigram_counts[word]) - np.log(total_counts)\n",
    "    else:  \n",
    "        # \"Smoothing\", encouraging in-vocabulary, or at least short OOV words.\n",
    "        # We give a lower score to longer out-of-vocabulary spans.\n",
    "        return -100 * (right - left)\n",
    "        \n",
    "##\n",
    "# Use the pipe-cutting algorithm to segment text.\n",
    "def segment(text):\n",
    "    # We create a scoring lambda that accepts two parameters, \"left\" and \"right\", as required by the\n",
    "    # code you implemented above.  However, we also need access to the \"text\" in order\n",
    "    # to score the unigram.  A lambda captures the local variable \"text\" for this purpose.\n",
    "    score_func = lambda left, right: unigram_scoring_function(text, left, right)\n",
    "    \n",
    "    # Call your function to slice the string.\n",
    "    score, cuts = best_cuts_with_trace(0, len(text), score_func)\n",
    "    \n",
    "    # Imply a \"cut\" at the start and end of the text so that the list comprehension below is convenient.\n",
    "    cuts = [0] + cuts + [len(text)]\n",
    "    \n",
    "    # Convert the list of cuts into a list of words.\n",
    "    return score, [text[cuts[i] : cuts[i + 1]] for i in range(len(cuts) - 1)]"
   ]
  },
  {
   "cell_type": "code",
   "execution_count": 33,
   "metadata": {},
   "outputs": [
    {
     "data": {
      "text/plain": [
       "(-46.807904515904966, ['hello', 'world', 'how', 'are', 'you'])"
      ]
     },
     "execution_count": 33,
     "metadata": {},
     "output_type": "execute_result"
    }
   ],
   "source": [
    "segment('helloworldhowareyou')"
   ]
  },
  {
   "cell_type": "code",
   "execution_count": 34,
   "metadata": {
    "scrolled": true
   },
   "outputs": [
    {
     "data": {
      "text/plain": [
       "(-31.397834251805293, ['down', 'by', 'the', 'bay'])"
      ]
     },
     "execution_count": 34,
     "metadata": {},
     "output_type": "execute_result"
    }
   ],
   "source": [
    "segment('downbythebay')"
   ]
  },
  {
   "cell_type": "code",
   "execution_count": 35,
   "metadata": {},
   "outputs": [
    {
     "data": {
      "text/plain": [
       "(-70.828403092106,\n",
       " ['wikipedia',\n",
       "  'is',\n",
       "  'a',\n",
       "  'really',\n",
       "  'strong',\n",
       "  'resource',\n",
       "  'on',\n",
       "  'the',\n",
       "  'internet'])"
      ]
     },
     "execution_count": 35,
     "metadata": {},
     "output_type": "execute_result"
    }
   ],
   "source": [
    "segment('wikipediaisareallystrongresourceontheinternet')"
   ]
  },
  {
   "cell_type": "markdown",
   "metadata": {},
   "source": [
    "## Part (e): String edit distance\n",
    "Another classic DP problem in the NLP space - but not one we otherwise will talk about in the course is the idea of \"[edit distance](https://en.wikipedia.org/wiki/Levenshtein_distance)\".  It's a way of measuring how many \"edits\" to one string you need to make in order to turn it into another.\n",
    "\n",
    "We've provided two implementations below for you to play with.\n",
    "\n",
    "1.  **levenshtein_cache:** The \"cache everything in a dict\" approach is first.  The keys are coordinates into a table that is len(str1) x len(str2) in size.\n",
    "\n",
    "2.  **levenshtein_explicit:** Similar to the version of ways(n) that only keeps the previous two values at hand, the explicit ordering approach only keeps the immediately previous row of the table while building the next. Setting the verbose flag to this version prints each row of the table out as it computes it."
   ]
  },
  {
   "cell_type": "markdown",
   "metadata": {},
   "source": [
    "### Part (e) Short Answer Questions:\n",
    "\n",
    "Give brief answers to the following in the cell below.\n",
    "\n",
    "1. Let `n = len(str1)` and `m = len(str2)`. In terms of `n` and `m`, what is the size of the DP table (cache) for computing Levenshtein distance? _Hint: how many valid keys are there? Do we use all of them?_\n",
    "<p>\n",
    "2. Based on your answer to 1., what is the running time (in Big-O notation) of the edit distance algorithm? _Hint: it takes $O(1)$ work at each step, assuming we have the needed cache entries._\n",
    "<p>\n",
    "\n",
    "3. Consider transpositions (as mentioned in section 5.6 of the async), such as `xy` -> `yx`. How can we compose a transposition from insertions, deletions, and substitutions? What is the edit distance between `wxyz` and `wyxz`?\n",
    "<p>\n",
    "\n",
    "4. **Optional (0 points, but we'll provide feedback when we grade):** Suppose we wanted to handle transpositions directly, rather than allowing our algorithm to compose them from other operations. (This might be useful if we want to score them differently.) If we have for the other operations:\n",
    "```python\n",
    "_ed(i - 1, j) + 1  # insertion\n",
    "_ed(i, j - 1) + 1  # deletion\n",
    "_ed(i - 1, j - 1) + substitution  # substitution, free if letters match  \n",
    "```\n",
    "what line would we add (calling `_ed`) to handle a transposition? (You may want to define a variable `transposition_match` to check that a transposition makes sense at the current position.) Based on your answer to 1. and 2., does this change the Big-O runtime of the algorithm?"
   ]
  },
  {
   "cell_type": "markdown",
   "metadata": {},
   "source": [
    "### Part (e) Answers\n",
    "\n",
    "1. _$(n + 1) \\times (m + 1)$_\n",
    "2. _$O((n + 1) \\times (m + 1))$_\n",
    "3. _From wxyz to wyxz, from wxyz, we can either insert y after w and delet y after x which is 1 insertion and 1 deletion operations; or we can subsitute x to y and y to x which is 2 subsitutions. The edit distance is 2_\n",
    "4. *We can add ed(i - 1, j - 1) + transposition\\_match, The runtime is $O(\\frac{(n+1) \\times (m+1)}{2})$*"
   ]
  },
  {
   "cell_type": "code",
   "execution_count": 1,
   "metadata": {},
   "outputs": [],
   "source": [
    "def levenshtein_cache(str1, str2):\n",
    "    cache = dict()\n",
    "    def _ed(i, j):\n",
    "        \"\"\"Recursive helper, using cache.\"\"\"\n",
    "        if (i,j) in cache: \n",
    "            return cache[(i,j)]\n",
    "        \n",
    "        # Base cases\n",
    "        if i == 0:\n",
    "            result = j\n",
    "        elif j == 0:\n",
    "            result = i\n",
    "            \n",
    "        # Main recursion\n",
    "        else:\n",
    "            # 1 if letters differ (substitution is free if the letters are the same)\n",
    "            substitution = 0 if str1[i - 1] == str2[j - 1] else 1\n",
    "            result = min([\n",
    "                    _ed(i - 1, j) + 1,  # insertion\n",
    "                    _ed(i, j - 1) + 1,  # deletion\n",
    "                    _ed(i - 1, j - 1) + substitution,  # substitution, free if letters match  \n",
    "            ])\n",
    "        cache[(i,j)] = result\n",
    "        return result\n",
    "    \n",
    "    return _ed(len(str1), len(str2))"
   ]
  },
  {
   "cell_type": "code",
   "execution_count": 2,
   "metadata": {
    "collapsed": true
   },
   "outputs": [],
   "source": [
    "def levenshtein_explicit(str1, str2, verbose=False):\n",
    "    prev_num_edits = range(len(str1) + 1)\n",
    "    for j in xrange(1, len(str2) + 1):\n",
    "        num_edits = [prev_num_edits[0] + 1]\n",
    "        for i in xrange(1, len(str1) + 1):\n",
    "            # 1 if letters differ (substitution is free if the letters are the same)\n",
    "            substitution = 0 if str1[i - 1] == str2[j - 1] else 1\n",
    "            result = min([num_edits[i - 1] + 1,\n",
    "                          prev_num_edits[i] + 1,\n",
    "                          prev_num_edits[i - 1] + substitution\n",
    "            ])\n",
    "            num_edits.append(result)\n",
    "        if verbose:\n",
    "            print prev_num_edits\n",
    "        prev_num_edits = num_edits\n",
    "    if verbose:\n",
    "        print prev_num_edits\n",
    "    return prev_num_edits[len(str1)]"
   ]
  },
  {
   "cell_type": "code",
   "execution_count": 3,
   "metadata": {},
   "outputs": [
    {
     "name": "stdout",
     "output_type": "stream",
     "text": [
      "[0, 1, 2, 3]\n",
      "[1, 1, 2, 3]\n",
      "[2, 2, 1, 2]\n",
      "[3, 3, 2, 1]\n"
     ]
    },
    {
     "data": {
      "text/plain": [
       "1"
      ]
     },
     "execution_count": 3,
     "metadata": {},
     "output_type": "execute_result"
    }
   ],
   "source": [
    "# Substitution.\n",
    "levenshtein_explicit('abc', 'dbc', verbose=True)"
   ]
  },
  {
   "cell_type": "code",
   "execution_count": 4,
   "metadata": {},
   "outputs": [
    {
     "data": {
      "text/plain": [
       "1"
      ]
     },
     "execution_count": 4,
     "metadata": {},
     "output_type": "execute_result"
    }
   ],
   "source": [
    "# Deletion.\n",
    "levenshtein_explicit('abc', 'ac')"
   ]
  },
  {
   "cell_type": "code",
   "execution_count": 5,
   "metadata": {},
   "outputs": [
    {
     "data": {
      "text/plain": [
       "1"
      ]
     },
     "execution_count": 5,
     "metadata": {},
     "output_type": "execute_result"
    }
   ],
   "source": [
    "# Insertion.\n",
    "levenshtein_explicit('ac', 'abc')"
   ]
  },
  {
   "cell_type": "code",
   "execution_count": 6,
   "metadata": {},
   "outputs": [
    {
     "data": {
      "text/plain": [
       "3"
      ]
     },
     "execution_count": 6,
     "metadata": {},
     "output_type": "execute_result"
    }
   ],
   "source": [
    "# All of the above.\n",
    "levenshtein_cache('kitten', 'sitting')"
   ]
  },
  {
   "cell_type": "code",
   "execution_count": 7,
   "metadata": {},
   "outputs": [
    {
     "data": {
      "text/plain": [
       "13"
      ]
     },
     "execution_count": 7,
     "metadata": {},
     "output_type": "execute_result"
    }
   ],
   "source": [
    "# Fun!\n",
    "levenshtein_cache('w266 class', 'with 6 classic tricks')"
   ]
  },
  {
   "cell_type": "code",
   "execution_count": 8,
   "metadata": {},
   "outputs": [
    {
     "data": {
      "text/plain": [
       "2"
      ]
     },
     "execution_count": 8,
     "metadata": {},
     "output_type": "execute_result"
    }
   ],
   "source": [
    "# transposition\n",
    "levenshtein_cache('wxyz', 'wyxz')"
   ]
  },
  {
   "cell_type": "markdown",
   "metadata": {
    "collapsed": true
   },
   "source": [
    "# Dynamic Programming Notes\n",
    "\n",
    "* Find Sub problems\n",
    "    * subsequence\n",
    "    * submatrix\n"
   ]
  }
 ],
 "metadata": {
  "anaconda-cloud": {},
  "kernelspec": {
   "display_name": "Python 3 (ipykernel)",
   "language": "python",
   "name": "python3"
  },
  "language_info": {
   "codemirror_mode": {
    "name": "ipython",
    "version": 3
   },
   "file_extension": ".py",
   "mimetype": "text/x-python",
   "name": "python",
   "nbconvert_exporter": "python",
   "pygments_lexer": "ipython3",
   "version": "3.8.5"
  },
  "toc": {
   "base_numbering": 1,
   "nav_menu": {},
   "number_sections": true,
   "sideBar": true,
   "skip_h1_title": false,
   "title_cell": "Table of Contents",
   "title_sidebar": "Contents",
   "toc_cell": false,
   "toc_position": {},
   "toc_section_display": true,
   "toc_window_display": false
  }
 },
 "nbformat": 4,
 "nbformat_minor": 2
}
